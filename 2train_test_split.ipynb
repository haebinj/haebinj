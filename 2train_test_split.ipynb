{
 "cells": [
  {
   "cell_type": "code",
   "execution_count": 5,
   "id": "29574c00",
   "metadata": {
    "ExecuteTime": {
     "end_time": "2022-06-30T00:20:43.893206Z",
     "start_time": "2022-06-30T00:20:43.880213Z"
    }
   },
   "outputs": [],
   "source": [
    "from sklearn.datasets import load_iris\n",
    "iris_data = load_iris()"
   ]
  },
  {
   "cell_type": "code",
   "execution_count": 9,
   "id": "eb3d5ef9",
   "metadata": {
    "ExecuteTime": {
     "end_time": "2022-06-30T00:21:58.161071Z",
     "start_time": "2022-06-30T00:21:58.145086Z"
    }
   },
   "outputs": [
    {
     "data": {
      "text/plain": [
       "dict_keys(['data', 'target', 'frame', 'target_names', 'DESCR', 'feature_names', 'filename', 'data_module'])"
      ]
     },
     "execution_count": 9,
     "metadata": {},
     "output_type": "execute_result"
    }
   ],
   "source": [
    "iris_data.keys()"
   ]
  },
  {
   "cell_type": "code",
   "execution_count": 10,
   "id": "88bc13f4",
   "metadata": {
    "ExecuteTime": {
     "end_time": "2022-06-30T00:25:51.721539Z",
     "start_time": "2022-06-30T00:25:51.691557Z"
    }
   },
   "outputs": [
    {
     "data": {
      "text/plain": [
       "{'data': array([[5.1, 3.5, 1.4, 0.2],\n",
       "        [4.9, 3. , 1.4, 0.2],\n",
       "        [4.7, 3.2, 1.3, 0.2],\n",
       "        [4.6, 3.1, 1.5, 0.2],\n",
       "        [5. , 3.6, 1.4, 0.2],\n",
       "        [5.4, 3.9, 1.7, 0.4],\n",
       "        [4.6, 3.4, 1.4, 0.3],\n",
       "        [5. , 3.4, 1.5, 0.2],\n",
       "        [4.4, 2.9, 1.4, 0.2],\n",
       "        [4.9, 3.1, 1.5, 0.1],\n",
       "        [5.4, 3.7, 1.5, 0.2],\n",
       "        [4.8, 3.4, 1.6, 0.2],\n",
       "        [4.8, 3. , 1.4, 0.1],\n",
       "        [4.3, 3. , 1.1, 0.1],\n",
       "        [5.8, 4. , 1.2, 0.2],\n",
       "        [5.7, 4.4, 1.5, 0.4],\n",
       "        [5.4, 3.9, 1.3, 0.4],\n",
       "        [5.1, 3.5, 1.4, 0.3],\n",
       "        [5.7, 3.8, 1.7, 0.3],\n",
       "        [5.1, 3.8, 1.5, 0.3],\n",
       "        [5.4, 3.4, 1.7, 0.2],\n",
       "        [5.1, 3.7, 1.5, 0.4],\n",
       "        [4.6, 3.6, 1. , 0.2],\n",
       "        [5.1, 3.3, 1.7, 0.5],\n",
       "        [4.8, 3.4, 1.9, 0.2],\n",
       "        [5. , 3. , 1.6, 0.2],\n",
       "        [5. , 3.4, 1.6, 0.4],\n",
       "        [5.2, 3.5, 1.5, 0.2],\n",
       "        [5.2, 3.4, 1.4, 0.2],\n",
       "        [4.7, 3.2, 1.6, 0.2],\n",
       "        [4.8, 3.1, 1.6, 0.2],\n",
       "        [5.4, 3.4, 1.5, 0.4],\n",
       "        [5.2, 4.1, 1.5, 0.1],\n",
       "        [5.5, 4.2, 1.4, 0.2],\n",
       "        [4.9, 3.1, 1.5, 0.2],\n",
       "        [5. , 3.2, 1.2, 0.2],\n",
       "        [5.5, 3.5, 1.3, 0.2],\n",
       "        [4.9, 3.6, 1.4, 0.1],\n",
       "        [4.4, 3. , 1.3, 0.2],\n",
       "        [5.1, 3.4, 1.5, 0.2],\n",
       "        [5. , 3.5, 1.3, 0.3],\n",
       "        [4.5, 2.3, 1.3, 0.3],\n",
       "        [4.4, 3.2, 1.3, 0.2],\n",
       "        [5. , 3.5, 1.6, 0.6],\n",
       "        [5.1, 3.8, 1.9, 0.4],\n",
       "        [4.8, 3. , 1.4, 0.3],\n",
       "        [5.1, 3.8, 1.6, 0.2],\n",
       "        [4.6, 3.2, 1.4, 0.2],\n",
       "        [5.3, 3.7, 1.5, 0.2],\n",
       "        [5. , 3.3, 1.4, 0.2],\n",
       "        [7. , 3.2, 4.7, 1.4],\n",
       "        [6.4, 3.2, 4.5, 1.5],\n",
       "        [6.9, 3.1, 4.9, 1.5],\n",
       "        [5.5, 2.3, 4. , 1.3],\n",
       "        [6.5, 2.8, 4.6, 1.5],\n",
       "        [5.7, 2.8, 4.5, 1.3],\n",
       "        [6.3, 3.3, 4.7, 1.6],\n",
       "        [4.9, 2.4, 3.3, 1. ],\n",
       "        [6.6, 2.9, 4.6, 1.3],\n",
       "        [5.2, 2.7, 3.9, 1.4],\n",
       "        [5. , 2. , 3.5, 1. ],\n",
       "        [5.9, 3. , 4.2, 1.5],\n",
       "        [6. , 2.2, 4. , 1. ],\n",
       "        [6.1, 2.9, 4.7, 1.4],\n",
       "        [5.6, 2.9, 3.6, 1.3],\n",
       "        [6.7, 3.1, 4.4, 1.4],\n",
       "        [5.6, 3. , 4.5, 1.5],\n",
       "        [5.8, 2.7, 4.1, 1. ],\n",
       "        [6.2, 2.2, 4.5, 1.5],\n",
       "        [5.6, 2.5, 3.9, 1.1],\n",
       "        [5.9, 3.2, 4.8, 1.8],\n",
       "        [6.1, 2.8, 4. , 1.3],\n",
       "        [6.3, 2.5, 4.9, 1.5],\n",
       "        [6.1, 2.8, 4.7, 1.2],\n",
       "        [6.4, 2.9, 4.3, 1.3],\n",
       "        [6.6, 3. , 4.4, 1.4],\n",
       "        [6.8, 2.8, 4.8, 1.4],\n",
       "        [6.7, 3. , 5. , 1.7],\n",
       "        [6. , 2.9, 4.5, 1.5],\n",
       "        [5.7, 2.6, 3.5, 1. ],\n",
       "        [5.5, 2.4, 3.8, 1.1],\n",
       "        [5.5, 2.4, 3.7, 1. ],\n",
       "        [5.8, 2.7, 3.9, 1.2],\n",
       "        [6. , 2.7, 5.1, 1.6],\n",
       "        [5.4, 3. , 4.5, 1.5],\n",
       "        [6. , 3.4, 4.5, 1.6],\n",
       "        [6.7, 3.1, 4.7, 1.5],\n",
       "        [6.3, 2.3, 4.4, 1.3],\n",
       "        [5.6, 3. , 4.1, 1.3],\n",
       "        [5.5, 2.5, 4. , 1.3],\n",
       "        [5.5, 2.6, 4.4, 1.2],\n",
       "        [6.1, 3. , 4.6, 1.4],\n",
       "        [5.8, 2.6, 4. , 1.2],\n",
       "        [5. , 2.3, 3.3, 1. ],\n",
       "        [5.6, 2.7, 4.2, 1.3],\n",
       "        [5.7, 3. , 4.2, 1.2],\n",
       "        [5.7, 2.9, 4.2, 1.3],\n",
       "        [6.2, 2.9, 4.3, 1.3],\n",
       "        [5.1, 2.5, 3. , 1.1],\n",
       "        [5.7, 2.8, 4.1, 1.3],\n",
       "        [6.3, 3.3, 6. , 2.5],\n",
       "        [5.8, 2.7, 5.1, 1.9],\n",
       "        [7.1, 3. , 5.9, 2.1],\n",
       "        [6.3, 2.9, 5.6, 1.8],\n",
       "        [6.5, 3. , 5.8, 2.2],\n",
       "        [7.6, 3. , 6.6, 2.1],\n",
       "        [4.9, 2.5, 4.5, 1.7],\n",
       "        [7.3, 2.9, 6.3, 1.8],\n",
       "        [6.7, 2.5, 5.8, 1.8],\n",
       "        [7.2, 3.6, 6.1, 2.5],\n",
       "        [6.5, 3.2, 5.1, 2. ],\n",
       "        [6.4, 2.7, 5.3, 1.9],\n",
       "        [6.8, 3. , 5.5, 2.1],\n",
       "        [5.7, 2.5, 5. , 2. ],\n",
       "        [5.8, 2.8, 5.1, 2.4],\n",
       "        [6.4, 3.2, 5.3, 2.3],\n",
       "        [6.5, 3. , 5.5, 1.8],\n",
       "        [7.7, 3.8, 6.7, 2.2],\n",
       "        [7.7, 2.6, 6.9, 2.3],\n",
       "        [6. , 2.2, 5. , 1.5],\n",
       "        [6.9, 3.2, 5.7, 2.3],\n",
       "        [5.6, 2.8, 4.9, 2. ],\n",
       "        [7.7, 2.8, 6.7, 2. ],\n",
       "        [6.3, 2.7, 4.9, 1.8],\n",
       "        [6.7, 3.3, 5.7, 2.1],\n",
       "        [7.2, 3.2, 6. , 1.8],\n",
       "        [6.2, 2.8, 4.8, 1.8],\n",
       "        [6.1, 3. , 4.9, 1.8],\n",
       "        [6.4, 2.8, 5.6, 2.1],\n",
       "        [7.2, 3. , 5.8, 1.6],\n",
       "        [7.4, 2.8, 6.1, 1.9],\n",
       "        [7.9, 3.8, 6.4, 2. ],\n",
       "        [6.4, 2.8, 5.6, 2.2],\n",
       "        [6.3, 2.8, 5.1, 1.5],\n",
       "        [6.1, 2.6, 5.6, 1.4],\n",
       "        [7.7, 3. , 6.1, 2.3],\n",
       "        [6.3, 3.4, 5.6, 2.4],\n",
       "        [6.4, 3.1, 5.5, 1.8],\n",
       "        [6. , 3. , 4.8, 1.8],\n",
       "        [6.9, 3.1, 5.4, 2.1],\n",
       "        [6.7, 3.1, 5.6, 2.4],\n",
       "        [6.9, 3.1, 5.1, 2.3],\n",
       "        [5.8, 2.7, 5.1, 1.9],\n",
       "        [6.8, 3.2, 5.9, 2.3],\n",
       "        [6.7, 3.3, 5.7, 2.5],\n",
       "        [6.7, 3. , 5.2, 2.3],\n",
       "        [6.3, 2.5, 5. , 1.9],\n",
       "        [6.5, 3. , 5.2, 2. ],\n",
       "        [6.2, 3.4, 5.4, 2.3],\n",
       "        [5.9, 3. , 5.1, 1.8]]),\n",
       " 'target': array([0, 0, 0, 0, 0, 0, 0, 0, 0, 0, 0, 0, 0, 0, 0, 0, 0, 0, 0, 0, 0, 0,\n",
       "        0, 0, 0, 0, 0, 0, 0, 0, 0, 0, 0, 0, 0, 0, 0, 0, 0, 0, 0, 0, 0, 0,\n",
       "        0, 0, 0, 0, 0, 0, 1, 1, 1, 1, 1, 1, 1, 1, 1, 1, 1, 1, 1, 1, 1, 1,\n",
       "        1, 1, 1, 1, 1, 1, 1, 1, 1, 1, 1, 1, 1, 1, 1, 1, 1, 1, 1, 1, 1, 1,\n",
       "        1, 1, 1, 1, 1, 1, 1, 1, 1, 1, 1, 1, 2, 2, 2, 2, 2, 2, 2, 2, 2, 2,\n",
       "        2, 2, 2, 2, 2, 2, 2, 2, 2, 2, 2, 2, 2, 2, 2, 2, 2, 2, 2, 2, 2, 2,\n",
       "        2, 2, 2, 2, 2, 2, 2, 2, 2, 2, 2, 2, 2, 2, 2, 2, 2, 2]),\n",
       " 'frame': None,\n",
       " 'target_names': array(['setosa', 'versicolor', 'virginica'], dtype='<U10'),\n",
       " 'DESCR': '.. _iris_dataset:\\n\\nIris plants dataset\\n--------------------\\n\\n**Data Set Characteristics:**\\n\\n    :Number of Instances: 150 (50 in each of three classes)\\n    :Number of Attributes: 4 numeric, predictive attributes and the class\\n    :Attribute Information:\\n        - sepal length in cm\\n        - sepal width in cm\\n        - petal length in cm\\n        - petal width in cm\\n        - class:\\n                - Iris-Setosa\\n                - Iris-Versicolour\\n                - Iris-Virginica\\n                \\n    :Summary Statistics:\\n\\n    ============== ==== ==== ======= ===== ====================\\n                    Min  Max   Mean    SD   Class Correlation\\n    ============== ==== ==== ======= ===== ====================\\n    sepal length:   4.3  7.9   5.84   0.83    0.7826\\n    sepal width:    2.0  4.4   3.05   0.43   -0.4194\\n    petal length:   1.0  6.9   3.76   1.76    0.9490  (high!)\\n    petal width:    0.1  2.5   1.20   0.76    0.9565  (high!)\\n    ============== ==== ==== ======= ===== ====================\\n\\n    :Missing Attribute Values: None\\n    :Class Distribution: 33.3% for each of 3 classes.\\n    :Creator: R.A. Fisher\\n    :Donor: Michael Marshall (MARSHALL%PLU@io.arc.nasa.gov)\\n    :Date: July, 1988\\n\\nThe famous Iris database, first used by Sir R.A. Fisher. The dataset is taken\\nfrom Fisher\\'s paper. Note that it\\'s the same as in R, but not as in the UCI\\nMachine Learning Repository, which has two wrong data points.\\n\\nThis is perhaps the best known database to be found in the\\npattern recognition literature.  Fisher\\'s paper is a classic in the field and\\nis referenced frequently to this day.  (See Duda & Hart, for example.)  The\\ndata set contains 3 classes of 50 instances each, where each class refers to a\\ntype of iris plant.  One class is linearly separable from the other 2; the\\nlatter are NOT linearly separable from each other.\\n\\n.. topic:: References\\n\\n   - Fisher, R.A. \"The use of multiple measurements in taxonomic problems\"\\n     Annual Eugenics, 7, Part II, 179-188 (1936); also in \"Contributions to\\n     Mathematical Statistics\" (John Wiley, NY, 1950).\\n   - Duda, R.O., & Hart, P.E. (1973) Pattern Classification and Scene Analysis.\\n     (Q327.D83) John Wiley & Sons.  ISBN 0-471-22361-1.  See page 218.\\n   - Dasarathy, B.V. (1980) \"Nosing Around the Neighborhood: A New System\\n     Structure and Classification Rule for Recognition in Partially Exposed\\n     Environments\".  IEEE Transactions on Pattern Analysis and Machine\\n     Intelligence, Vol. PAMI-2, No. 1, 67-71.\\n   - Gates, G.W. (1972) \"The Reduced Nearest Neighbor Rule\".  IEEE Transactions\\n     on Information Theory, May 1972, 431-433.\\n   - See also: 1988 MLC Proceedings, 54-64.  Cheeseman et al\"s AUTOCLASS II\\n     conceptual clustering system finds 3 classes in the data.\\n   - Many, many more ...',\n",
       " 'feature_names': ['sepal length (cm)',\n",
       "  'sepal width (cm)',\n",
       "  'petal length (cm)',\n",
       "  'petal width (cm)'],\n",
       " 'filename': 'iris.csv',\n",
       " 'data_module': 'sklearn.datasets.data'}"
      ]
     },
     "execution_count": 10,
     "metadata": {},
     "output_type": "execute_result"
    }
   ],
   "source": [
    "iris_data"
   ]
  },
  {
   "cell_type": "code",
   "execution_count": 15,
   "id": "e392618e",
   "metadata": {
    "ExecuteTime": {
     "end_time": "2022-06-30T00:31:10.079340Z",
     "start_time": "2022-06-30T00:31:10.059350Z"
    }
   },
   "outputs": [
    {
     "data": {
      "text/plain": [
       "150"
      ]
     },
     "execution_count": 15,
     "metadata": {},
     "output_type": "execute_result"
    }
   ],
   "source": [
    "X_train = iris_data.data*0.8\n",
    "len(iris_data.data)"
   ]
  },
  {
   "cell_type": "code",
   "execution_count": 16,
   "id": "a2085e05",
   "metadata": {
    "ExecuteTime": {
     "end_time": "2022-06-30T00:31:17.768566Z",
     "start_time": "2022-06-30T00:31:17.739584Z"
    }
   },
   "outputs": [
    {
     "data": {
      "text/plain": [
       "array([[4.08, 2.8 , 1.12, 0.16],\n",
       "       [3.92, 2.4 , 1.12, 0.16],\n",
       "       [3.76, 2.56, 1.04, 0.16],\n",
       "       [3.68, 2.48, 1.2 , 0.16],\n",
       "       [4.  , 2.88, 1.12, 0.16],\n",
       "       [4.32, 3.12, 1.36, 0.32],\n",
       "       [3.68, 2.72, 1.12, 0.24],\n",
       "       [4.  , 2.72, 1.2 , 0.16],\n",
       "       [3.52, 2.32, 1.12, 0.16],\n",
       "       [3.92, 2.48, 1.2 , 0.08],\n",
       "       [4.32, 2.96, 1.2 , 0.16],\n",
       "       [3.84, 2.72, 1.28, 0.16],\n",
       "       [3.84, 2.4 , 1.12, 0.08],\n",
       "       [3.44, 2.4 , 0.88, 0.08],\n",
       "       [4.64, 3.2 , 0.96, 0.16],\n",
       "       [4.56, 3.52, 1.2 , 0.32],\n",
       "       [4.32, 3.12, 1.04, 0.32],\n",
       "       [4.08, 2.8 , 1.12, 0.24],\n",
       "       [4.56, 3.04, 1.36, 0.24],\n",
       "       [4.08, 3.04, 1.2 , 0.24],\n",
       "       [4.32, 2.72, 1.36, 0.16],\n",
       "       [4.08, 2.96, 1.2 , 0.32],\n",
       "       [3.68, 2.88, 0.8 , 0.16],\n",
       "       [4.08, 2.64, 1.36, 0.4 ],\n",
       "       [3.84, 2.72, 1.52, 0.16],\n",
       "       [4.  , 2.4 , 1.28, 0.16],\n",
       "       [4.  , 2.72, 1.28, 0.32],\n",
       "       [4.16, 2.8 , 1.2 , 0.16],\n",
       "       [4.16, 2.72, 1.12, 0.16],\n",
       "       [3.76, 2.56, 1.28, 0.16],\n",
       "       [3.84, 2.48, 1.28, 0.16],\n",
       "       [4.32, 2.72, 1.2 , 0.32],\n",
       "       [4.16, 3.28, 1.2 , 0.08],\n",
       "       [4.4 , 3.36, 1.12, 0.16],\n",
       "       [3.92, 2.48, 1.2 , 0.16],\n",
       "       [4.  , 2.56, 0.96, 0.16],\n",
       "       [4.4 , 2.8 , 1.04, 0.16],\n",
       "       [3.92, 2.88, 1.12, 0.08],\n",
       "       [3.52, 2.4 , 1.04, 0.16],\n",
       "       [4.08, 2.72, 1.2 , 0.16],\n",
       "       [4.  , 2.8 , 1.04, 0.24],\n",
       "       [3.6 , 1.84, 1.04, 0.24],\n",
       "       [3.52, 2.56, 1.04, 0.16],\n",
       "       [4.  , 2.8 , 1.28, 0.48],\n",
       "       [4.08, 3.04, 1.52, 0.32],\n",
       "       [3.84, 2.4 , 1.12, 0.24],\n",
       "       [4.08, 3.04, 1.28, 0.16],\n",
       "       [3.68, 2.56, 1.12, 0.16],\n",
       "       [4.24, 2.96, 1.2 , 0.16],\n",
       "       [4.  , 2.64, 1.12, 0.16],\n",
       "       [5.6 , 2.56, 3.76, 1.12],\n",
       "       [5.12, 2.56, 3.6 , 1.2 ],\n",
       "       [5.52, 2.48, 3.92, 1.2 ],\n",
       "       [4.4 , 1.84, 3.2 , 1.04],\n",
       "       [5.2 , 2.24, 3.68, 1.2 ],\n",
       "       [4.56, 2.24, 3.6 , 1.04],\n",
       "       [5.04, 2.64, 3.76, 1.28],\n",
       "       [3.92, 1.92, 2.64, 0.8 ],\n",
       "       [5.28, 2.32, 3.68, 1.04],\n",
       "       [4.16, 2.16, 3.12, 1.12],\n",
       "       [4.  , 1.6 , 2.8 , 0.8 ],\n",
       "       [4.72, 2.4 , 3.36, 1.2 ],\n",
       "       [4.8 , 1.76, 3.2 , 0.8 ],\n",
       "       [4.88, 2.32, 3.76, 1.12],\n",
       "       [4.48, 2.32, 2.88, 1.04],\n",
       "       [5.36, 2.48, 3.52, 1.12],\n",
       "       [4.48, 2.4 , 3.6 , 1.2 ],\n",
       "       [4.64, 2.16, 3.28, 0.8 ],\n",
       "       [4.96, 1.76, 3.6 , 1.2 ],\n",
       "       [4.48, 2.  , 3.12, 0.88],\n",
       "       [4.72, 2.56, 3.84, 1.44],\n",
       "       [4.88, 2.24, 3.2 , 1.04],\n",
       "       [5.04, 2.  , 3.92, 1.2 ],\n",
       "       [4.88, 2.24, 3.76, 0.96],\n",
       "       [5.12, 2.32, 3.44, 1.04],\n",
       "       [5.28, 2.4 , 3.52, 1.12],\n",
       "       [5.44, 2.24, 3.84, 1.12],\n",
       "       [5.36, 2.4 , 4.  , 1.36],\n",
       "       [4.8 , 2.32, 3.6 , 1.2 ],\n",
       "       [4.56, 2.08, 2.8 , 0.8 ],\n",
       "       [4.4 , 1.92, 3.04, 0.88],\n",
       "       [4.4 , 1.92, 2.96, 0.8 ],\n",
       "       [4.64, 2.16, 3.12, 0.96],\n",
       "       [4.8 , 2.16, 4.08, 1.28],\n",
       "       [4.32, 2.4 , 3.6 , 1.2 ],\n",
       "       [4.8 , 2.72, 3.6 , 1.28],\n",
       "       [5.36, 2.48, 3.76, 1.2 ],\n",
       "       [5.04, 1.84, 3.52, 1.04],\n",
       "       [4.48, 2.4 , 3.28, 1.04],\n",
       "       [4.4 , 2.  , 3.2 , 1.04],\n",
       "       [4.4 , 2.08, 3.52, 0.96],\n",
       "       [4.88, 2.4 , 3.68, 1.12],\n",
       "       [4.64, 2.08, 3.2 , 0.96],\n",
       "       [4.  , 1.84, 2.64, 0.8 ],\n",
       "       [4.48, 2.16, 3.36, 1.04],\n",
       "       [4.56, 2.4 , 3.36, 0.96],\n",
       "       [4.56, 2.32, 3.36, 1.04],\n",
       "       [4.96, 2.32, 3.44, 1.04],\n",
       "       [4.08, 2.  , 2.4 , 0.88],\n",
       "       [4.56, 2.24, 3.28, 1.04],\n",
       "       [5.04, 2.64, 4.8 , 2.  ],\n",
       "       [4.64, 2.16, 4.08, 1.52],\n",
       "       [5.68, 2.4 , 4.72, 1.68],\n",
       "       [5.04, 2.32, 4.48, 1.44],\n",
       "       [5.2 , 2.4 , 4.64, 1.76],\n",
       "       [6.08, 2.4 , 5.28, 1.68],\n",
       "       [3.92, 2.  , 3.6 , 1.36],\n",
       "       [5.84, 2.32, 5.04, 1.44],\n",
       "       [5.36, 2.  , 4.64, 1.44],\n",
       "       [5.76, 2.88, 4.88, 2.  ],\n",
       "       [5.2 , 2.56, 4.08, 1.6 ],\n",
       "       [5.12, 2.16, 4.24, 1.52],\n",
       "       [5.44, 2.4 , 4.4 , 1.68],\n",
       "       [4.56, 2.  , 4.  , 1.6 ],\n",
       "       [4.64, 2.24, 4.08, 1.92],\n",
       "       [5.12, 2.56, 4.24, 1.84],\n",
       "       [5.2 , 2.4 , 4.4 , 1.44],\n",
       "       [6.16, 3.04, 5.36, 1.76],\n",
       "       [6.16, 2.08, 5.52, 1.84],\n",
       "       [4.8 , 1.76, 4.  , 1.2 ],\n",
       "       [5.52, 2.56, 4.56, 1.84],\n",
       "       [4.48, 2.24, 3.92, 1.6 ],\n",
       "       [6.16, 2.24, 5.36, 1.6 ],\n",
       "       [5.04, 2.16, 3.92, 1.44],\n",
       "       [5.36, 2.64, 4.56, 1.68],\n",
       "       [5.76, 2.56, 4.8 , 1.44],\n",
       "       [4.96, 2.24, 3.84, 1.44],\n",
       "       [4.88, 2.4 , 3.92, 1.44],\n",
       "       [5.12, 2.24, 4.48, 1.68],\n",
       "       [5.76, 2.4 , 4.64, 1.28],\n",
       "       [5.92, 2.24, 4.88, 1.52],\n",
       "       [6.32, 3.04, 5.12, 1.6 ],\n",
       "       [5.12, 2.24, 4.48, 1.76],\n",
       "       [5.04, 2.24, 4.08, 1.2 ],\n",
       "       [4.88, 2.08, 4.48, 1.12],\n",
       "       [6.16, 2.4 , 4.88, 1.84],\n",
       "       [5.04, 2.72, 4.48, 1.92],\n",
       "       [5.12, 2.48, 4.4 , 1.44],\n",
       "       [4.8 , 2.4 , 3.84, 1.44],\n",
       "       [5.52, 2.48, 4.32, 1.68],\n",
       "       [5.36, 2.48, 4.48, 1.92],\n",
       "       [5.52, 2.48, 4.08, 1.84],\n",
       "       [4.64, 2.16, 4.08, 1.52],\n",
       "       [5.44, 2.56, 4.72, 1.84],\n",
       "       [5.36, 2.64, 4.56, 2.  ],\n",
       "       [5.36, 2.4 , 4.16, 1.84],\n",
       "       [5.04, 2.  , 4.  , 1.52],\n",
       "       [5.2 , 2.4 , 4.16, 1.6 ],\n",
       "       [4.96, 2.72, 4.32, 1.84],\n",
       "       [4.72, 2.4 , 4.08, 1.44]])"
      ]
     },
     "execution_count": 16,
     "metadata": {},
     "output_type": "execute_result"
    }
   ],
   "source": [
    "X_train"
   ]
  },
  {
   "cell_type": "code",
   "execution_count": 18,
   "id": "f192d080",
   "metadata": {
    "ExecuteTime": {
     "end_time": "2022-06-30T00:32:40.647408Z",
     "start_time": "2022-06-30T00:32:40.628422Z"
    }
   },
   "outputs": [],
   "source": [
    "X_train = iris_data.data[0:120]\n",
    "X_test = iris_data.data[120:]"
   ]
  },
  {
   "cell_type": "code",
   "execution_count": 22,
   "id": "01b9f8d3",
   "metadata": {
    "ExecuteTime": {
     "end_time": "2022-06-30T00:36:01.059803Z",
     "start_time": "2022-06-30T00:36:00.998838Z"
    }
   },
   "outputs": [
    {
     "ename": "AttributeError",
     "evalue": "'numpy.ndarray' object has no attribute 'target'",
     "output_type": "error",
     "traceback": [
      "\u001b[1;31m---------------------------------------------------------------------------\u001b[0m",
      "\u001b[1;31mAttributeError\u001b[0m                            Traceback (most recent call last)",
      "Input \u001b[1;32mIn [22]\u001b[0m, in \u001b[0;36m<cell line: 1>\u001b[1;34m()\u001b[0m\n\u001b[1;32m----> 1\u001b[0m y_train \u001b[38;5;241m=\u001b[39m \u001b[43miris\u001b[49m\u001b[38;5;241;43m.\u001b[39;49m\u001b[43mdata\u001b[49m\u001b[38;5;241;43m.\u001b[39;49m\u001b[43mtarget\u001b[49m[\u001b[38;5;241m0\u001b[39m:\u001b[38;5;241m120\u001b[39m]\n\u001b[0;32m      2\u001b[0m y_test \u001b[38;5;241m=\u001b[39m iris_data\u001b[38;5;241m.\u001b[39mtarget[\u001b[38;5;241m120\u001b[39m:]\n",
      "\u001b[1;31mAttributeError\u001b[0m: 'numpy.ndarray' object has no attribute 'target'"
     ]
    }
   ],
   "source": [
    "y_train = iris.data.target[0:120]\n",
    "y_test = iris_data.target[120:]\n"
   ]
  },
  {
   "cell_type": "code",
   "execution_count": 24,
   "id": "83193a18",
   "metadata": {
    "ExecuteTime": {
     "end_time": "2022-06-30T00:37:31.280101Z",
     "start_time": "2022-06-30T00:37:25.086637Z"
    }
   },
   "outputs": [
    {
     "name": "stdout",
     "output_type": "stream",
     "text": [
      "Requirement already satisfied: matplotlib in c:\\users\\haebin\\appdata\\local\\programs\\python\\python310\\lib\\site-packages (3.5.2)\n",
      "Requirement already satisfied: kiwisolver>=1.0.1 in c:\\users\\haebin\\appdata\\local\\programs\\python\\python310\\lib\\site-packages (from matplotlib) (1.4.2)\n",
      "Requirement already satisfied: pillow>=6.2.0 in c:\\users\\haebin\\appdata\\local\\programs\\python\\python310\\lib\\site-packages (from matplotlib) (9.1.1)\n",
      "Requirement already satisfied: fonttools>=4.22.0 in c:\\users\\haebin\\appdata\\local\\programs\\python\\python310\\lib\\site-packages (from matplotlib) (4.33.3)\n",
      "Requirement already satisfied: cycler>=0.10 in c:\\users\\haebin\\appdata\\local\\programs\\python\\python310\\lib\\site-packages (from matplotlib) (0.11.0)\n",
      "Requirement already satisfied: pyparsing>=2.2.1 in c:\\users\\haebin\\appdata\\local\\programs\\python\\python310\\lib\\site-packages (from matplotlib) (3.0.9)\n",
      "Requirement already satisfied: packaging>=20.0 in c:\\users\\haebin\\appdata\\local\\programs\\python\\python310\\lib\\site-packages (from matplotlib) (21.3)\n",
      "Requirement already satisfied: python-dateutil>=2.7 in c:\\users\\haebin\\appdata\\local\\programs\\python\\python310\\lib\\site-packages (from matplotlib) (2.8.2)\n",
      "Requirement already satisfied: numpy>=1.17 in c:\\users\\haebin\\appdata\\local\\programs\\python\\python310\\lib\\site-packages (from matplotlib) (1.22.4)\n",
      "Requirement already satisfied: six>=1.5 in c:\\users\\haebin\\appdata\\local\\programs\\python\\python310\\lib\\site-packages (from python-dateutil>=2.7->matplotlib) (1.16.0)\n"
     ]
    }
   ],
   "source": [
    "!pip install matplotlib"
   ]
  },
  {
   "cell_type": "code",
   "execution_count": 25,
   "id": "983f4126",
   "metadata": {
    "ExecuteTime": {
     "end_time": "2022-06-30T00:37:38.712309Z",
     "start_time": "2022-06-30T00:37:35.865336Z"
    }
   },
   "outputs": [
    {
     "data": {
      "text/plain": [
       "[<matplotlib.lines.Line2D at 0x22434d2b580>,\n",
       " <matplotlib.lines.Line2D at 0x22434d2a500>,\n",
       " <matplotlib.lines.Line2D at 0x22434d2b5e0>,\n",
       " <matplotlib.lines.Line2D at 0x22434d2b700>]"
      ]
     },
     "execution_count": 25,
     "metadata": {},
     "output_type": "execute_result"
    },
    {
     "data": {
      "image/png": "[encoded data removed]",
      "text/plain": [
       "<Figure size 432x288 with 1 Axes>"
      ]
     },
     "metadata": {
      "needs_background": "light"
     },
     "output_type": "display_data"
    }
   ],
   "source": [
    "import matplotlib.pyplot as plt\n",
    "plt.plot(y_train)"
   ]
  },
  {
   "cell_type": "markdown",
   "id": "628c121b",
   "metadata": {},
   "source": [
    "### train_test_split\n",
    "* sklearn.model_selection.train_test_split\n",
    "sklearn.model_selection.train_test_split(*arrays, test_size=None, train_size=None, random_state=None, shuffle=True, stratify=None)"
   ]
  },
  {
   "cell_type": "code",
   "execution_count": 27,
   "id": "d0e618e0",
   "metadata": {
    "ExecuteTime": {
     "end_time": "2022-06-30T00:52:45.842422Z",
     "start_time": "2022-06-30T00:52:45.140036Z"
    }
   },
   "outputs": [],
   "source": [
    "from sklearn.model_selection import train_test_split"
   ]
  },
  {
   "cell_type": "code",
   "execution_count": 28,
   "id": "b4f26c33",
   "metadata": {
    "ExecuteTime": {
     "end_time": "2022-06-30T00:54:16.303483Z",
     "start_time": "2022-06-30T00:54:16.210532Z"
    }
   },
   "outputs": [
    {
     "data": {
      "text/plain": [
       "(array([[5.1, 3.5, 1.4, 0.2],\n",
       "        [4.9, 3. , 1.4, 0.2],\n",
       "        [4.7, 3.2, 1.3, 0.2],\n",
       "        [4.6, 3.1, 1.5, 0.2],\n",
       "        [5. , 3.6, 1.4, 0.2],\n",
       "        [5.4, 3.9, 1.7, 0.4],\n",
       "        [4.6, 3.4, 1.4, 0.3],\n",
       "        [5. , 3.4, 1.5, 0.2],\n",
       "        [4.4, 2.9, 1.4, 0.2],\n",
       "        [4.9, 3.1, 1.5, 0.1],\n",
       "        [5.4, 3.7, 1.5, 0.2],\n",
       "        [4.8, 3.4, 1.6, 0.2],\n",
       "        [4.8, 3. , 1.4, 0.1],\n",
       "        [4.3, 3. , 1.1, 0.1],\n",
       "        [5.8, 4. , 1.2, 0.2],\n",
       "        [5.7, 4.4, 1.5, 0.4],\n",
       "        [5.4, 3.9, 1.3, 0.4],\n",
       "        [5.1, 3.5, 1.4, 0.3],\n",
       "        [5.7, 3.8, 1.7, 0.3],\n",
       "        [5.1, 3.8, 1.5, 0.3],\n",
       "        [5.4, 3.4, 1.7, 0.2],\n",
       "        [5.1, 3.7, 1.5, 0.4],\n",
       "        [4.6, 3.6, 1. , 0.2],\n",
       "        [5.1, 3.3, 1.7, 0.5],\n",
       "        [4.8, 3.4, 1.9, 0.2],\n",
       "        [5. , 3. , 1.6, 0.2],\n",
       "        [5. , 3.4, 1.6, 0.4],\n",
       "        [5.2, 3.5, 1.5, 0.2],\n",
       "        [5.2, 3.4, 1.4, 0.2],\n",
       "        [4.7, 3.2, 1.6, 0.2],\n",
       "        [4.8, 3.1, 1.6, 0.2],\n",
       "        [5.4, 3.4, 1.5, 0.4],\n",
       "        [5.2, 4.1, 1.5, 0.1],\n",
       "        [5.5, 4.2, 1.4, 0.2],\n",
       "        [4.9, 3.1, 1.5, 0.2],\n",
       "        [5. , 3.2, 1.2, 0.2],\n",
       "        [5.5, 3.5, 1.3, 0.2],\n",
       "        [4.9, 3.6, 1.4, 0.1],\n",
       "        [4.4, 3. , 1.3, 0.2],\n",
       "        [5.1, 3.4, 1.5, 0.2],\n",
       "        [5. , 3.5, 1.3, 0.3],\n",
       "        [4.5, 2.3, 1.3, 0.3],\n",
       "        [4.4, 3.2, 1.3, 0.2],\n",
       "        [5. , 3.5, 1.6, 0.6],\n",
       "        [5.1, 3.8, 1.9, 0.4],\n",
       "        [4.8, 3. , 1.4, 0.3],\n",
       "        [5.1, 3.8, 1.6, 0.2],\n",
       "        [4.6, 3.2, 1.4, 0.2],\n",
       "        [5.3, 3.7, 1.5, 0.2],\n",
       "        [5. , 3.3, 1.4, 0.2],\n",
       "        [7. , 3.2, 4.7, 1.4],\n",
       "        [6.4, 3.2, 4.5, 1.5],\n",
       "        [6.9, 3.1, 4.9, 1.5],\n",
       "        [5.5, 2.3, 4. , 1.3],\n",
       "        [6.5, 2.8, 4.6, 1.5],\n",
       "        [5.7, 2.8, 4.5, 1.3],\n",
       "        [6.3, 3.3, 4.7, 1.6],\n",
       "        [4.9, 2.4, 3.3, 1. ],\n",
       "        [6.6, 2.9, 4.6, 1.3],\n",
       "        [5.2, 2.7, 3.9, 1.4],\n",
       "        [5. , 2. , 3.5, 1. ],\n",
       "        [5.9, 3. , 4.2, 1.5],\n",
       "        [6. , 2.2, 4. , 1. ],\n",
       "        [6.1, 2.9, 4.7, 1.4],\n",
       "        [5.6, 2.9, 3.6, 1.3],\n",
       "        [6.7, 3.1, 4.4, 1.4],\n",
       "        [5.6, 3. , 4.5, 1.5],\n",
       "        [5.8, 2.7, 4.1, 1. ],\n",
       "        [6.2, 2.2, 4.5, 1.5],\n",
       "        [5.6, 2.5, 3.9, 1.1],\n",
       "        [5.9, 3.2, 4.8, 1.8],\n",
       "        [6.1, 2.8, 4. , 1.3],\n",
       "        [6.3, 2.5, 4.9, 1.5],\n",
       "        [6.1, 2.8, 4.7, 1.2],\n",
       "        [6.4, 2.9, 4.3, 1.3],\n",
       "        [6.6, 3. , 4.4, 1.4],\n",
       "        [6.8, 2.8, 4.8, 1.4],\n",
       "        [6.7, 3. , 5. , 1.7],\n",
       "        [6. , 2.9, 4.5, 1.5],\n",
       "        [5.7, 2.6, 3.5, 1. ],\n",
       "        [5.5, 2.4, 3.8, 1.1],\n",
       "        [5.5, 2.4, 3.7, 1. ],\n",
       "        [5.8, 2.7, 3.9, 1.2],\n",
       "        [6. , 2.7, 5.1, 1.6],\n",
       "        [5.4, 3. , 4.5, 1.5],\n",
       "        [6. , 3.4, 4.5, 1.6],\n",
       "        [6.7, 3.1, 4.7, 1.5],\n",
       "        [6.3, 2.3, 4.4, 1.3],\n",
       "        [5.6, 3. , 4.1, 1.3],\n",
       "        [5.5, 2.5, 4. , 1.3],\n",
       "        [5.5, 2.6, 4.4, 1.2],\n",
       "        [6.1, 3. , 4.6, 1.4],\n",
       "        [5.8, 2.6, 4. , 1.2],\n",
       "        [5. , 2.3, 3.3, 1. ],\n",
       "        [5.6, 2.7, 4.2, 1.3],\n",
       "        [5.7, 3. , 4.2, 1.2],\n",
       "        [5.7, 2.9, 4.2, 1.3],\n",
       "        [6.2, 2.9, 4.3, 1.3],\n",
       "        [5.1, 2.5, 3. , 1.1],\n",
       "        [5.7, 2.8, 4.1, 1.3],\n",
       "        [6.3, 3.3, 6. , 2.5],\n",
       "        [5.8, 2.7, 5.1, 1.9],\n",
       "        [7.1, 3. , 5.9, 2.1],\n",
       "        [6.3, 2.9, 5.6, 1.8],\n",
       "        [6.5, 3. , 5.8, 2.2],\n",
       "        [7.6, 3. , 6.6, 2.1],\n",
       "        [4.9, 2.5, 4.5, 1.7],\n",
       "        [7.3, 2.9, 6.3, 1.8],\n",
       "        [6.7, 2.5, 5.8, 1.8],\n",
       "        [7.2, 3.6, 6.1, 2.5],\n",
       "        [6.5, 3.2, 5.1, 2. ],\n",
       "        [6.4, 2.7, 5.3, 1.9],\n",
       "        [6.8, 3. , 5.5, 2.1],\n",
       "        [5.7, 2.5, 5. , 2. ],\n",
       "        [5.8, 2.8, 5.1, 2.4],\n",
       "        [6.4, 3.2, 5.3, 2.3],\n",
       "        [6.5, 3. , 5.5, 1.8],\n",
       "        [7.7, 3.8, 6.7, 2.2],\n",
       "        [7.7, 2.6, 6.9, 2.3],\n",
       "        [6. , 2.2, 5. , 1.5]]),\n",
       " array([[6.9, 3.2, 5.7, 2.3],\n",
       "        [5.6, 2.8, 4.9, 2. ],\n",
       "        [7.7, 2.8, 6.7, 2. ],\n",
       "        [6.3, 2.7, 4.9, 1.8],\n",
       "        [6.7, 3.3, 5.7, 2.1],\n",
       "        [7.2, 3.2, 6. , 1.8],\n",
       "        [6.2, 2.8, 4.8, 1.8],\n",
       "        [6.1, 3. , 4.9, 1.8],\n",
       "        [6.4, 2.8, 5.6, 2.1],\n",
       "        [7.2, 3. , 5.8, 1.6],\n",
       "        [7.4, 2.8, 6.1, 1.9],\n",
       "        [7.9, 3.8, 6.4, 2. ],\n",
       "        [6.4, 2.8, 5.6, 2.2],\n",
       "        [6.3, 2.8, 5.1, 1.5],\n",
       "        [6.1, 2.6, 5.6, 1.4],\n",
       "        [7.7, 3. , 6.1, 2.3],\n",
       "        [6.3, 3.4, 5.6, 2.4],\n",
       "        [6.4, 3.1, 5.5, 1.8],\n",
       "        [6. , 3. , 4.8, 1.8],\n",
       "        [6.9, 3.1, 5.4, 2.1],\n",
       "        [6.7, 3.1, 5.6, 2.4],\n",
       "        [6.9, 3.1, 5.1, 2.3],\n",
       "        [5.8, 2.7, 5.1, 1.9],\n",
       "        [6.8, 3.2, 5.9, 2.3],\n",
       "        [6.7, 3.3, 5.7, 2.5],\n",
       "        [6.7, 3. , 5.2, 2.3],\n",
       "        [6.3, 2.5, 5. , 1.9],\n",
       "        [6.5, 3. , 5.2, 2. ],\n",
       "        [6.2, 3.4, 5.4, 2.3],\n",
       "        [5.9, 3. , 5.1, 1.8]]),\n",
       " array([[5.1, 3.5, 1.4, 0.2],\n",
       "        [4.9, 3. , 1.4, 0.2],\n",
       "        [4.7, 3.2, 1.3, 0.2],\n",
       "        [4.6, 3.1, 1.5, 0.2],\n",
       "        [5. , 3.6, 1.4, 0.2],\n",
       "        [5.4, 3.9, 1.7, 0.4],\n",
       "        [4.6, 3.4, 1.4, 0.3],\n",
       "        [5. , 3.4, 1.5, 0.2],\n",
       "        [4.4, 2.9, 1.4, 0.2],\n",
       "        [4.9, 3.1, 1.5, 0.1],\n",
       "        [5.4, 3.7, 1.5, 0.2],\n",
       "        [4.8, 3.4, 1.6, 0.2],\n",
       "        [4.8, 3. , 1.4, 0.1],\n",
       "        [4.3, 3. , 1.1, 0.1],\n",
       "        [5.8, 4. , 1.2, 0.2],\n",
       "        [5.7, 4.4, 1.5, 0.4],\n",
       "        [5.4, 3.9, 1.3, 0.4],\n",
       "        [5.1, 3.5, 1.4, 0.3],\n",
       "        [5.7, 3.8, 1.7, 0.3],\n",
       "        [5.1, 3.8, 1.5, 0.3],\n",
       "        [5.4, 3.4, 1.7, 0.2],\n",
       "        [5.1, 3.7, 1.5, 0.4],\n",
       "        [4.6, 3.6, 1. , 0.2],\n",
       "        [5.1, 3.3, 1.7, 0.5],\n",
       "        [4.8, 3.4, 1.9, 0.2],\n",
       "        [5. , 3. , 1.6, 0.2],\n",
       "        [5. , 3.4, 1.6, 0.4],\n",
       "        [5.2, 3.5, 1.5, 0.2],\n",
       "        [5.2, 3.4, 1.4, 0.2],\n",
       "        [4.7, 3.2, 1.6, 0.2],\n",
       "        [4.8, 3.1, 1.6, 0.2],\n",
       "        [5.4, 3.4, 1.5, 0.4],\n",
       "        [5.2, 4.1, 1.5, 0.1],\n",
       "        [5.5, 4.2, 1.4, 0.2],\n",
       "        [4.9, 3.1, 1.5, 0.2],\n",
       "        [5. , 3.2, 1.2, 0.2],\n",
       "        [5.5, 3.5, 1.3, 0.2],\n",
       "        [4.9, 3.6, 1.4, 0.1],\n",
       "        [4.4, 3. , 1.3, 0.2],\n",
       "        [5.1, 3.4, 1.5, 0.2],\n",
       "        [5. , 3.5, 1.3, 0.3],\n",
       "        [4.5, 2.3, 1.3, 0.3],\n",
       "        [4.4, 3.2, 1.3, 0.2],\n",
       "        [5. , 3.5, 1.6, 0.6],\n",
       "        [5.1, 3.8, 1.9, 0.4],\n",
       "        [4.8, 3. , 1.4, 0.3],\n",
       "        [5.1, 3.8, 1.6, 0.2],\n",
       "        [4.6, 3.2, 1.4, 0.2],\n",
       "        [5.3, 3.7, 1.5, 0.2],\n",
       "        [5. , 3.3, 1.4, 0.2],\n",
       "        [7. , 3.2, 4.7, 1.4],\n",
       "        [6.4, 3.2, 4.5, 1.5],\n",
       "        [6.9, 3.1, 4.9, 1.5],\n",
       "        [5.5, 2.3, 4. , 1.3],\n",
       "        [6.5, 2.8, 4.6, 1.5],\n",
       "        [5.7, 2.8, 4.5, 1.3],\n",
       "        [6.3, 3.3, 4.7, 1.6],\n",
       "        [4.9, 2.4, 3.3, 1. ],\n",
       "        [6.6, 2.9, 4.6, 1.3],\n",
       "        [5.2, 2.7, 3.9, 1.4],\n",
       "        [5. , 2. , 3.5, 1. ],\n",
       "        [5.9, 3. , 4.2, 1.5],\n",
       "        [6. , 2.2, 4. , 1. ],\n",
       "        [6.1, 2.9, 4.7, 1.4],\n",
       "        [5.6, 2.9, 3.6, 1.3],\n",
       "        [6.7, 3.1, 4.4, 1.4],\n",
       "        [5.6, 3. , 4.5, 1.5],\n",
       "        [5.8, 2.7, 4.1, 1. ],\n",
       "        [6.2, 2.2, 4.5, 1.5],\n",
       "        [5.6, 2.5, 3.9, 1.1],\n",
       "        [5.9, 3.2, 4.8, 1.8],\n",
       "        [6.1, 2.8, 4. , 1.3],\n",
       "        [6.3, 2.5, 4.9, 1.5],\n",
       "        [6.1, 2.8, 4.7, 1.2],\n",
       "        [6.4, 2.9, 4.3, 1.3],\n",
       "        [6.6, 3. , 4.4, 1.4],\n",
       "        [6.8, 2.8, 4.8, 1.4],\n",
       "        [6.7, 3. , 5. , 1.7],\n",
       "        [6. , 2.9, 4.5, 1.5],\n",
       "        [5.7, 2.6, 3.5, 1. ],\n",
       "        [5.5, 2.4, 3.8, 1.1],\n",
       "        [5.5, 2.4, 3.7, 1. ],\n",
       "        [5.8, 2.7, 3.9, 1.2],\n",
       "        [6. , 2.7, 5.1, 1.6],\n",
       "        [5.4, 3. , 4.5, 1.5],\n",
       "        [6. , 3.4, 4.5, 1.6],\n",
       "        [6.7, 3.1, 4.7, 1.5],\n",
       "        [6.3, 2.3, 4.4, 1.3],\n",
       "        [5.6, 3. , 4.1, 1.3],\n",
       "        [5.5, 2.5, 4. , 1.3],\n",
       "        [5.5, 2.6, 4.4, 1.2],\n",
       "        [6.1, 3. , 4.6, 1.4],\n",
       "        [5.8, 2.6, 4. , 1.2],\n",
       "        [5. , 2.3, 3.3, 1. ],\n",
       "        [5.6, 2.7, 4.2, 1.3],\n",
       "        [5.7, 3. , 4.2, 1.2],\n",
       "        [5.7, 2.9, 4.2, 1.3],\n",
       "        [6.2, 2.9, 4.3, 1.3],\n",
       "        [5.1, 2.5, 3. , 1.1],\n",
       "        [5.7, 2.8, 4.1, 1.3],\n",
       "        [6.3, 3.3, 6. , 2.5],\n",
       "        [5.8, 2.7, 5.1, 1.9],\n",
       "        [7.1, 3. , 5.9, 2.1],\n",
       "        [6.3, 2.9, 5.6, 1.8],\n",
       "        [6.5, 3. , 5.8, 2.2],\n",
       "        [7.6, 3. , 6.6, 2.1],\n",
       "        [4.9, 2.5, 4.5, 1.7],\n",
       "        [7.3, 2.9, 6.3, 1.8],\n",
       "        [6.7, 2.5, 5.8, 1.8],\n",
       "        [7.2, 3.6, 6.1, 2.5],\n",
       "        [6.5, 3.2, 5.1, 2. ],\n",
       "        [6.4, 2.7, 5.3, 1.9],\n",
       "        [6.8, 3. , 5.5, 2.1],\n",
       "        [5.7, 2.5, 5. , 2. ],\n",
       "        [5.8, 2.8, 5.1, 2.4],\n",
       "        [6.4, 3.2, 5.3, 2.3],\n",
       "        [6.5, 3. , 5.5, 1.8],\n",
       "        [7.7, 3.8, 6.7, 2.2],\n",
       "        [7.7, 2.6, 6.9, 2.3],\n",
       "        [6. , 2.2, 5. , 1.5],\n",
       "        [6.9, 3.2, 5.7, 2.3],\n",
       "        [5.6, 2.8, 4.9, 2. ],\n",
       "        [7.7, 2.8, 6.7, 2. ],\n",
       "        [6.3, 2.7, 4.9, 1.8],\n",
       "        [6.7, 3.3, 5.7, 2.1],\n",
       "        [7.2, 3.2, 6. , 1.8],\n",
       "        [6.2, 2.8, 4.8, 1.8],\n",
       "        [6.1, 3. , 4.9, 1.8],\n",
       "        [6.4, 2.8, 5.6, 2.1],\n",
       "        [7.2, 3. , 5.8, 1.6],\n",
       "        [7.4, 2.8, 6.1, 1.9],\n",
       "        [7.9, 3.8, 6.4, 2. ],\n",
       "        [6.4, 2.8, 5.6, 2.2],\n",
       "        [6.3, 2.8, 5.1, 1.5],\n",
       "        [6.1, 2.6, 5.6, 1.4],\n",
       "        [7.7, 3. , 6.1, 2.3],\n",
       "        [6.3, 3.4, 5.6, 2.4],\n",
       "        [6.4, 3.1, 5.5, 1.8],\n",
       "        [6. , 3. , 4.8, 1.8],\n",
       "        [6.9, 3.1, 5.4, 2.1],\n",
       "        [6.7, 3.1, 5.6, 2.4],\n",
       "        [6.9, 3.1, 5.1, 2.3],\n",
       "        [5.8, 2.7, 5.1, 1.9],\n",
       "        [6.8, 3.2, 5.9, 2.3],\n",
       "        [6.7, 3.3, 5.7, 2.5],\n",
       "        [6.7, 3. , 5.2, 2.3],\n",
       "        [6.3, 2.5, 5. , 1.9],\n",
       "        [6.5, 3. , 5.2, 2. ],\n",
       "        [6.2, 3.4, 5.4, 2.3],\n",
       "        [5.9, 3. , 5.1, 1.8]]),\n",
       " [array([[5.2, 4.1, 1.5, 0.1],\n",
       "         [6.9, 3.1, 4.9, 1.5],\n",
       "         [5.9, 3.2, 4.8, 1.8],\n",
       "         [5.6, 2.8, 4.9, 2. ],\n",
       "         [6.7, 3.3, 5.7, 2.5],\n",
       "         [6.2, 2.2, 4.5, 1.5],\n",
       "         [7.2, 3.6, 6.1, 2.5],\n",
       "         [5.5, 2.4, 3.7, 1. ],\n",
       "         [6. , 2.9, 4.5, 1.5],\n",
       "         [6.4, 3.2, 4.5, 1.5],\n",
       "         [5.8, 4. , 1.2, 0.2],\n",
       "         [5.3, 3.7, 1.5, 0.2],\n",
       "         [6.1, 2.9, 4.7, 1.4],\n",
       "         [5.4, 3.4, 1.7, 0.2],\n",
       "         [6.4, 3.1, 5.5, 1.8],\n",
       "         [4.7, 3.2, 1.6, 0.2],\n",
       "         [4.6, 3.1, 1.5, 0.2],\n",
       "         [4.9, 2.5, 4.5, 1.7],\n",
       "         [5.1, 2.5, 3. , 1.1],\n",
       "         [6.7, 3.1, 5.6, 2.4],\n",
       "         [4.9, 3.6, 1.4, 0.1],\n",
       "         [6.9, 3.1, 5.4, 2.1],\n",
       "         [4.8, 3. , 1.4, 0.3],\n",
       "         [5.8, 2.7, 3.9, 1.2],\n",
       "         [6. , 2.7, 5.1, 1.6],\n",
       "         [4.4, 3.2, 1.3, 0.2],\n",
       "         [6.8, 3.2, 5.9, 2.3],\n",
       "         [7.9, 3.8, 6.4, 2. ],\n",
       "         [6.5, 3. , 5.5, 1.8],\n",
       "         [7.6, 3. , 6.6, 2.1],\n",
       "         [6.3, 2.8, 5.1, 1.5],\n",
       "         [4.6, 3.4, 1.4, 0.3],\n",
       "         [5.7, 2.6, 3.5, 1. ],\n",
       "         [6.7, 2.5, 5.8, 1.8],\n",
       "         [5.7, 2.8, 4.1, 1.3],\n",
       "         [4.9, 3.1, 1.5, 0.2],\n",
       "         [6.4, 2.8, 5.6, 2.1],\n",
       "         [7. , 3.2, 4.7, 1.4],\n",
       "         [5.7, 2.9, 4.2, 1.3],\n",
       "         [5. , 3.6, 1.4, 0.2],\n",
       "         [5.4, 3.9, 1.7, 0.4],\n",
       "         [5.1, 3.8, 1.9, 0.4],\n",
       "         [5.4, 3. , 4.5, 1.5],\n",
       "         [7.4, 2.8, 6.1, 1.9],\n",
       "         [6.3, 2.9, 5.6, 1.8],\n",
       "         [6.6, 3. , 4.4, 1.4],\n",
       "         [5. , 3.4, 1.5, 0.2],\n",
       "         [5.1, 3.8, 1.6, 0.2],\n",
       "         [5.1, 3.5, 1.4, 0.3],\n",
       "         [6.5, 3. , 5.8, 2.2],\n",
       "         [5.8, 2.7, 5.1, 1.9],\n",
       "         [6.1, 2.8, 4. , 1.3],\n",
       "         [5.5, 2.4, 3.8, 1.1],\n",
       "         [6.5, 3.2, 5.1, 2. ],\n",
       "         [6.5, 3. , 5.2, 2. ],\n",
       "         [5.9, 3. , 5.1, 1.8],\n",
       "         [6.1, 2.6, 5.6, 1.4],\n",
       "         [6.4, 2.9, 4.3, 1.3],\n",
       "         [5.2, 3.4, 1.4, 0.2],\n",
       "         [4.8, 3.4, 1.6, 0.2],\n",
       "         [5.6, 2.7, 4.2, 1.3],\n",
       "         [5.1, 3.3, 1.7, 0.5],\n",
       "         [4.6, 3.6, 1. , 0.2],\n",
       "         [6.1, 3. , 4.9, 1.8],\n",
       "         [5. , 2.3, 3.3, 1. ],\n",
       "         [5.7, 3.8, 1.7, 0.3],\n",
       "         [5.2, 3.5, 1.5, 0.2],\n",
       "         [5.5, 3.5, 1.3, 0.2],\n",
       "         [4.9, 2.4, 3.3, 1. ],\n",
       "         [5.4, 3.4, 1.5, 0.4],\n",
       "         [6.7, 3.1, 4.4, 1.4],\n",
       "         [4.8, 3. , 1.4, 0.1],\n",
       "         [5.5, 2.5, 4. , 1.3],\n",
       "         [6. , 2.2, 5. , 1.5],\n",
       "         [4.8, 3.1, 1.6, 0.2],\n",
       "         [6.7, 3.1, 4.7, 1.5],\n",
       "         [5.8, 2.6, 4. , 1.2],\n",
       "         [6.2, 3.4, 5.4, 2.3],\n",
       "         [5. , 3. , 1.6, 0.2],\n",
       "         [6. , 3. , 4.8, 1.8],\n",
       "         [4.3, 3. , 1.1, 0.1],\n",
       "         [5.6, 2.5, 3.9, 1.1],\n",
       "         [6.7, 3. , 5. , 1.7],\n",
       "         [7.7, 3. , 6.1, 2.3],\n",
       "         [6.3, 3.4, 5.6, 2.4],\n",
       "         [5.5, 4.2, 1.4, 0.2],\n",
       "         [6. , 2.2, 4. , 1. ],\n",
       "         [7.7, 2.8, 6.7, 2. ],\n",
       "         [7.3, 2.9, 6.3, 1.8],\n",
       "         [5.6, 3. , 4.1, 1.3],\n",
       "         [6.5, 2.8, 4.6, 1.5],\n",
       "         [6.3, 3.3, 6. , 2.5],\n",
       "         [5.4, 3.9, 1.3, 0.4],\n",
       "         [6.4, 3.2, 5.3, 2.3],\n",
       "         [5. , 3.5, 1.3, 0.3],\n",
       "         [5.1, 3.5, 1.4, 0.2],\n",
       "         [6.1, 2.8, 4.7, 1.2],\n",
       "         [4.4, 2.9, 1.4, 0.2],\n",
       "         [6.7, 3. , 5.2, 2.3],\n",
       "         [6.3, 2.7, 4.9, 1.8],\n",
       "         [5.7, 2.5, 5. , 2. ],\n",
       "         [5.6, 2.9, 3.6, 1.3],\n",
       "         [5.7, 4.4, 1.5, 0.4],\n",
       "         [7.2, 3.2, 6. , 1.8],\n",
       "         [4.9, 3.1, 1.5, 0.1]]),\n",
       "  array([[6.3, 2.3, 4.4, 1.3],\n",
       "         [6.4, 2.7, 5.3, 1.9],\n",
       "         [5.4, 3.7, 1.5, 0.2],\n",
       "         [6.1, 3. , 4.6, 1.4],\n",
       "         [5. , 3.3, 1.4, 0.2],\n",
       "         [5. , 2. , 3.5, 1. ],\n",
       "         [6.3, 2.5, 4.9, 1.5],\n",
       "         [5.8, 2.7, 4.1, 1. ],\n",
       "         [5.1, 3.4, 1.5, 0.2],\n",
       "         [5.7, 2.8, 4.5, 1.3],\n",
       "         [5.6, 3. , 4.5, 1.5],\n",
       "         [5.8, 2.7, 5.1, 1.9],\n",
       "         [5.5, 2.3, 4. , 1.3],\n",
       "         [4.9, 3. , 1.4, 0.2],\n",
       "         [5.1, 3.8, 1.5, 0.3],\n",
       "         [6.8, 3. , 5.5, 2.1],\n",
       "         [6. , 3.4, 4.5, 1.6],\n",
       "         [4.4, 3. , 1.3, 0.2],\n",
       "         [5.1, 3.7, 1.5, 0.4],\n",
       "         [5. , 3.2, 1.2, 0.2],\n",
       "         [7.1, 3. , 5.9, 2.1],\n",
       "         [6.4, 2.8, 5.6, 2.2],\n",
       "         [6.2, 2.8, 4.8, 1.8],\n",
       "         [4.8, 3.4, 1.9, 0.2],\n",
       "         [5.9, 3. , 4.2, 1.5],\n",
       "         [4.7, 3.2, 1.3, 0.2],\n",
       "         [5.7, 3. , 4.2, 1.2],\n",
       "         [5.5, 2.6, 4.4, 1.2],\n",
       "         [6.8, 2.8, 4.8, 1.4],\n",
       "         [7.7, 3.8, 6.7, 2.2],\n",
       "         [6.6, 2.9, 4.6, 1.3],\n",
       "         [6.2, 2.9, 4.3, 1.3],\n",
       "         [7.2, 3. , 5.8, 1.6],\n",
       "         [5.8, 2.8, 5.1, 2.4],\n",
       "         [6.3, 2.5, 5. , 1.9],\n",
       "         [4.6, 3.2, 1.4, 0.2],\n",
       "         [6.7, 3.3, 5.7, 2.1],\n",
       "         [6.9, 3.2, 5.7, 2.3],\n",
       "         [7.7, 2.6, 6.9, 2.3],\n",
       "         [6.9, 3.1, 5.1, 2.3],\n",
       "         [5. , 3.4, 1.6, 0.4],\n",
       "         [5. , 3.5, 1.6, 0.6],\n",
       "         [5.2, 2.7, 3.9, 1.4],\n",
       "         [4.5, 2.3, 1.3, 0.3],\n",
       "         [6.3, 3.3, 4.7, 1.6]])])"
      ]
     },
     "execution_count": 28,
     "metadata": {},
     "output_type": "execute_result"
    }
   ],
   "source": [
    "X_train, X_test, y_train, train_test_split(iris_data.data, test_size=0.3, random_state=10)"
   ]
  },
  {
   "cell_type": "markdown",
   "id": "7946d9b2",
   "metadata": {},
   "source": [
    "### 2. DecisionTreeClassifier\n",
    "▷ sklearn.tree.DecisionTreeClassifier\n",
    "▷ DecisionTreeClassifier(*, criterion='gini', splitter='best', max_depth=None, min_samples_split=2, min_samples_leaf=1, min_weight_fraction_leaf=0.0, max_features=None, random_state=None, max_leaf_nodes=None, min_impurity_decrease=0.0, class_weight=None, ccp_alpha=0.0"
   ]
  },
  {
   "cell_type": "code",
   "execution_count": 31,
   "id": "d5f91d63",
   "metadata": {
    "ExecuteTime": {
     "end_time": "2022-06-30T01:21:51.031279Z",
     "start_time": "2022-06-30T01:21:50.887322Z"
    }
   },
   "outputs": [
    {
     "data": {
      "text/html": [
       "<style>#sk-container-id-1 {color: black;background-color: white;}#sk-container-id-1 pre{padding: 0;}#sk-container-id-1 div.sk-toggleable {background-color: white;}#sk-container-id-1 label.sk-toggleable__label {cursor: pointer;display: block;width: 100%;margin-bottom: 0;padding: 0.3em;box-sizing: border-box;text-align: center;}#sk-container-id-1 label.sk-toggleable__label-arrow:before {content: \"▸\";float: left;margin-right: 0.25em;color: #696969;}#sk-container-id-1 label.sk-toggleable__label-arrow:hover:before {color: black;}#sk-container-id-1 div.sk-estimator:hover label.sk-toggleable__label-arrow:before {color: black;}#sk-container-id-1 div.sk-toggleable__content {max-height: 0;max-width: 0;overflow: hidden;text-align: left;background-color: #f0f8ff;}#sk-container-id-1 div.sk-toggleable__content pre {margin: 0.2em;color: black;border-radius: 0.25em;background-color: #f0f8ff;}#sk-container-id-1 input.sk-toggleable__control:checked~div.sk-toggleable__content {max-height: 200px;max-width: 100%;overflow: auto;}#sk-container-id-1 input.sk-toggleable__control:checked~label.sk-toggleable__label-arrow:before {content: \"▾\";}#sk-container-id-1 div.sk-estimator input.sk-toggleable__control:checked~label.sk-toggleable__label {background-color: #d4ebff;}#sk-container-id-1 div.sk-label input.sk-toggleable__control:checked~label.sk-toggleable__label {background-color: #d4ebff;}#sk-container-id-1 input.sk-hidden--visually {border: 0;clip: rect(1px 1px 1px 1px);clip: rect(1px, 1px, 1px, 1px);height: 1px;margin: -1px;overflow: hidden;padding: 0;position: absolute;width: 1px;}#sk-container-id-1 div.sk-estimator {font-family: monospace;background-color: #f0f8ff;border: 1px dotted black;border-radius: 0.25em;box-sizing: border-box;margin-bottom: 0.5em;}#sk-container-id-1 div.sk-estimator:hover {background-color: #d4ebff;}#sk-container-id-1 div.sk-parallel-item::after {content: \"\";width: 100%;border-bottom: 1px solid gray;flex-grow: 1;}#sk-container-id-1 div.sk-label:hover label.sk-toggleable__label {background-color: #d4ebff;}#sk-container-id-1 div.sk-serial::before {content: \"\";position: absolute;border-left: 1px solid gray;box-sizing: border-box;top: 0;bottom: 0;left: 50%;z-index: 0;}#sk-container-id-1 div.sk-serial {display: flex;flex-direction: column;align-items: center;background-color: white;padding-right: 0.2em;padding-left: 0.2em;position: relative;}#sk-container-id-1 div.sk-item {position: relative;z-index: 1;}#sk-container-id-1 div.sk-parallel {display: flex;align-items: stretch;justify-content: center;background-color: white;position: relative;}#sk-container-id-1 div.sk-item::before, #sk-container-id-1 div.sk-parallel-item::before {content: \"\";position: absolute;border-left: 1px solid gray;box-sizing: border-box;top: 0;bottom: 0;left: 50%;z-index: -1;}#sk-container-id-1 div.sk-parallel-item {display: flex;flex-direction: column;z-index: 1;position: relative;background-color: white;}#sk-container-id-1 div.sk-parallel-item:first-child::after {align-self: flex-end;width: 50%;}#sk-container-id-1 div.sk-parallel-item:last-child::after {align-self: flex-start;width: 50%;}#sk-container-id-1 div.sk-parallel-item:only-child::after {width: 0;}#sk-container-id-1 div.sk-dashed-wrapped {border: 1px dashed gray;margin: 0 0.4em 0.5em 0.4em;box-sizing: border-box;padding-bottom: 0.4em;background-color: white;}#sk-container-id-1 div.sk-label label {font-family: monospace;font-weight: bold;display: inline-block;line-height: 1.2em;}#sk-container-id-1 div.sk-label-container {text-align: center;}#sk-container-id-1 div.sk-container {/* jupyter's `normalize.less` sets `[hidden] { display: none; }` but bootstrap.min.css set `[hidden] { display: none !important; }` so we also need the `!important` here to be able to override the default hidden behavior on the sphinx rendered scikit-learn.org. See: https://github.com/scikit-learn/scikit-learn/issues/21755 */display: inline-block !important;position: relative;}#sk-container-id-1 div.sk-text-repr-fallback {display: none;}</style><div id=\"sk-container-id-1\" class=\"sk-top-container\"><div class=\"sk-text-repr-fallback\"><pre>DecisionTreeClassifier()</pre><b>In a Jupyter environment, please rerun this cell to show the HTML representation or trust the notebook. <br />On GitHub, the HTML representation is unable to render, please try loading this page with nbviewer.org.</b></div><div class=\"sk-container\" hidden><div class=\"sk-item\"><div class=\"sk-estimator sk-toggleable\"><input class=\"sk-toggleable__control sk-hidden--visually\" id=\"sk-estimator-id-1\" type=\"checkbox\" checked><label for=\"sk-estimator-id-1\" class=\"sk-toggleable__label sk-toggleable__label-arrow\">DecisionTreeClassifier</label><div class=\"sk-toggleable__content\"><pre>DecisionTreeClassifier()</pre></div></div></div></div></div>"
      ],
      "text/plain": [
       "DecisionTreeClassifier()"
      ]
     },
     "execution_count": 31,
     "metadata": {},
     "output_type": "execute_result"
    }
   ],
   "source": [
    "from sklearn.datasets import load_iris\n",
    "from sklearn.tree import DecisionTreeClassifier\n",
    "from sklearn.metrics import accuracy_score\n",
    "\n",
    "iris = load_iris()\n",
    "dt_clf = DecisionTreeClassifier()\n",
    "train_data = iris.data\n",
    "train_label = iris.target\n",
    "dt_clf.fit(train_data, train_label)"
   ]
  },
  {
   "cell_type": "code",
   "execution_count": 32,
   "id": "7a18aa41",
   "metadata": {
    "ExecuteTime": {
     "end_time": "2022-06-30T01:24:35.022940Z",
     "start_time": "2022-06-30T01:24:34.974956Z"
    }
   },
   "outputs": [
    {
     "name": "stdout",
     "output_type": "stream",
     "text": [
      "예측 정확도:  1.0000\n"
     ]
    }
   ],
   "source": [
    "pred = dt_clf.predict(X_test)\n",
    "print('예측 정확도: {0: .4f}'.format(accuracy_score(y_test, pred)))"
   ]
  },
  {
   "cell_type": "code",
   "execution_count": 35,
   "id": "429f0139",
   "metadata": {
    "ExecuteTime": {
     "end_time": "2022-06-30T01:29:15.053475Z",
     "start_time": "2022-06-30T01:29:15.026493Z"
    }
   },
   "outputs": [],
   "source": [
    "from sklearn.tree import DecisionTreeClassifier\n",
    "from sklearn.metrics import accuracy_score\n",
    "from sklearn.datasets import load_iris\n",
    "from sklearn.model_selection import train_test_split\n",
    "\n",
    "dt_clf = DecisionTreeClassifier()\n",
    "iris_data = load_iris()\n",
    "\n",
    "X_train, X_test, y_train, y_test = train_test_split(iris_data.data, iris_data. target, test_size=0.3, random_state=121)\n"
   ]
  },
  {
   "cell_type": "code",
   "execution_count": 36,
   "id": "48199e8f",
   "metadata": {
    "ExecuteTime": {
     "end_time": "2022-06-30T01:29:16.921556Z",
     "start_time": "2022-06-30T01:29:16.894567Z"
    }
   },
   "outputs": [
    {
     "name": "stdout",
     "output_type": "stream",
     "text": [
      "예측 정확도:{0:4f} 0.9555555555555556\n"
     ]
    }
   ],
   "source": [
    "dt_clf.fit(X_train, y_train)\n",
    "pred = dt_clf.predict(X_test)\n",
    "print('예측 정확도:{0:4f}', format(accuracy_score(y_test, pred)))"
   ]
  },
  {
   "cell_type": "code",
   "execution_count": 38,
   "id": "e6fc64ee",
   "metadata": {
    "ExecuteTime": {
     "end_time": "2022-06-30T01:39:02.854880Z",
     "start_time": "2022-06-30T01:39:02.823877Z"
    }
   },
   "outputs": [
    {
     "name": "stdout",
     "output_type": "stream",
     "text": [
      "예측정확도:0.9555555555555556\n"
     ]
    }
   ],
   "source": [
    "from sklearn.tree import DecisionTreeClassifier\n",
    "df_clf = DecisionTreeClassifier(max_depth=4, random_state=11)\n",
    "df_clf.fit(X_train, y_train)\n",
    "pred = df_clf.predict(X_test)\n",
    "from sklearn.metrics import accuracy_score\n",
    "print(f'예측정확도:{accuracy_score(pred, y_test)}')"
   ]
  },
  {
   "cell_type": "code",
   "execution_count": 42,
   "id": "0da9f8f1",
   "metadata": {
    "ExecuteTime": {
     "end_time": "2022-06-30T01:42:38.184898Z",
     "start_time": "2022-06-30T01:42:38.165930Z"
    }
   },
   "outputs": [
    {
     "name": "stdout",
     "output_type": "stream",
     "text": [
      "예측정확도:0.9555555555555556\n"
     ]
    }
   ],
   "source": [
    "from sklearn.tree import DecisionTreeClassifier\n",
    "df_clf = DecisionTreeClassifier(max_depth=5, random_state=11)\n",
    "df_clf.fit(X_train, y_train)\n",
    "pred = df_clf.predict(X_test)\n",
    "from sklearn.metrics import accuracy_score\n",
    "print(f'예측정확도:{accuracy_score(pred, y_test)}')"
   ]
  },
  {
   "cell_type": "code",
   "execution_count": null,
   "id": "ccb372fd",
   "metadata": {},
   "outputs": [],
   "source": []
  }
 ],
 "metadata": {
  "kernelspec": {
   "display_name": "Python 3 (ipykernel)",
   "language": "python",
   "name": "python3"
  },
  "language_info": {
   "codemirror_mode": {
    "name": "ipython",
    "version": 3
   },
   "file_extension": ".py",
   "mimetype": "text/x-python",
   "name": "python",
   "nbconvert_exporter": "python",
   "pygments_lexer": "ipython3",
   "version": "3.10.4"
  },
  "toc": {
   "base_numbering": 1,
   "nav_menu": {},
   "number_sections": true,
   "sideBar": true,
   "skip_h1_title": false,
   "title_cell": "Table of Contents",
   "title_sidebar": "Contents",
   "toc_cell": false,
   "toc_position": {},
   "toc_section_display": true,
   "toc_window_display": false
  }
 },
 "nbformat": 4,
 "nbformat_minor": 5
}
