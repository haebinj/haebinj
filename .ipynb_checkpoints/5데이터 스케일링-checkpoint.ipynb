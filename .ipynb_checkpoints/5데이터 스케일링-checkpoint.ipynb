{
 "cells": [
  {
   "cell_type": "markdown",
   "id": "ff6132f7",
   "metadata": {},
   "source": [
    "### standard, min-max, robust 비교 고찰"
   ]
  },
  {
   "cell_type": "code",
   "execution_count": 30,
   "id": "0057abac",
   "metadata": {
    "ExecuteTime": {
     "end_time": "2022-07-01T06:14:43.277356Z",
     "start_time": "2022-07-01T06:14:43.259367Z"
    }
   },
   "outputs": [],
   "source": [
    "import pandas as pd\n",
    "import numpy as np\n",
    "from sklearn.preprocessing import StandardScaler, MinMaxScaler, RobustScaler\n",
    "\n",
    "import matplotlib.pyplot as plt\n",
    "import seaborn as sns\n",
    "%matplotlib inline\n",
    "\n",
    "# data\n",
    "x = pd.DataFrame({\n",
    "    # Distribution with lower outliers\n",
    "    'x1': np.concatenate([np.random.normal(20, 2, 1000), np.random.normal(1, 2, 25)]),\n",
    "    # Distribution with higher outliers\n",
    "    'x2': np.concatenate([np.random.normal(30, 2, 1000), np.random.normal(50, 2, 25)]),\n",
    "})"
   ]
  },
  {
   "cell_type": "code",
   "execution_count": 31,
   "id": "2a078eb0",
   "metadata": {
    "ExecuteTime": {
     "end_time": "2022-07-01T06:14:44.220334Z",
     "start_time": "2022-07-01T06:14:44.201327Z"
    }
   },
   "outputs": [
    {
     "data": {
      "text/html": [
       "<div>\n",
       "<style scoped>\n",
       "    .dataframe tbody tr th:only-of-type {\n",
       "        vertical-align: middle;\n",
       "    }\n",
       "\n",
       "    .dataframe tbody tr th {\n",
       "        vertical-align: top;\n",
       "    }\n",
       "\n",
       "    .dataframe thead th {\n",
       "        text-align: right;\n",
       "    }\n",
       "</style>\n",
       "<table border=\"1\" class=\"dataframe\">\n",
       "  <thead>\n",
       "    <tr style=\"text-align: right;\">\n",
       "      <th></th>\n",
       "      <th>x1</th>\n",
       "      <th>x2</th>\n",
       "    </tr>\n",
       "  </thead>\n",
       "  <tbody>\n",
       "    <tr>\n",
       "      <th>0</th>\n",
       "      <td>16.499539</td>\n",
       "      <td>30.002881</td>\n",
       "    </tr>\n",
       "    <tr>\n",
       "      <th>1</th>\n",
       "      <td>20.134644</td>\n",
       "      <td>30.429389</td>\n",
       "    </tr>\n",
       "    <tr>\n",
       "      <th>2</th>\n",
       "      <td>21.001110</td>\n",
       "      <td>28.767630</td>\n",
       "    </tr>\n",
       "    <tr>\n",
       "      <th>3</th>\n",
       "      <td>19.448638</td>\n",
       "      <td>29.974336</td>\n",
       "    </tr>\n",
       "    <tr>\n",
       "      <th>4</th>\n",
       "      <td>19.707232</td>\n",
       "      <td>26.998426</td>\n",
       "    </tr>\n",
       "    <tr>\n",
       "      <th>...</th>\n",
       "      <td>...</td>\n",
       "      <td>...</td>\n",
       "    </tr>\n",
       "    <tr>\n",
       "      <th>1020</th>\n",
       "      <td>2.027277</td>\n",
       "      <td>49.173301</td>\n",
       "    </tr>\n",
       "    <tr>\n",
       "      <th>1021</th>\n",
       "      <td>1.351354</td>\n",
       "      <td>49.722536</td>\n",
       "    </tr>\n",
       "    <tr>\n",
       "      <th>1022</th>\n",
       "      <td>2.152240</td>\n",
       "      <td>50.676834</td>\n",
       "    </tr>\n",
       "    <tr>\n",
       "      <th>1023</th>\n",
       "      <td>3.691454</td>\n",
       "      <td>49.721471</td>\n",
       "    </tr>\n",
       "    <tr>\n",
       "      <th>1024</th>\n",
       "      <td>2.932008</td>\n",
       "      <td>50.495978</td>\n",
       "    </tr>\n",
       "  </tbody>\n",
       "</table>\n",
       "<p>1025 rows × 2 columns</p>\n",
       "</div>"
      ],
      "text/plain": [
       "             x1         x2\n",
       "0     16.499539  30.002881\n",
       "1     20.134644  30.429389\n",
       "2     21.001110  28.767630\n",
       "3     19.448638  29.974336\n",
       "4     19.707232  26.998426\n",
       "...         ...        ...\n",
       "1020   2.027277  49.173301\n",
       "1021   1.351354  49.722536\n",
       "1022   2.152240  50.676834\n",
       "1023   3.691454  49.721471\n",
       "1024   2.932008  50.495978\n",
       "\n",
       "[1025 rows x 2 columns]"
      ]
     },
     "execution_count": 31,
     "metadata": {},
     "output_type": "execute_result"
    }
   ],
   "source": [
    "x"
   ]
  },
  {
   "cell_type": "code",
   "execution_count": 32,
   "id": "471d722b",
   "metadata": {
    "ExecuteTime": {
     "end_time": "2022-07-01T06:14:45.145394Z",
     "start_time": "2022-07-01T06:14:45.117410Z"
    },
    "scrolled": true
   },
   "outputs": [
    {
     "data": {
      "text/html": [
       "<div>\n",
       "<style scoped>\n",
       "    .dataframe tbody tr th:only-of-type {\n",
       "        vertical-align: middle;\n",
       "    }\n",
       "\n",
       "    .dataframe tbody tr th {\n",
       "        vertical-align: top;\n",
       "    }\n",
       "\n",
       "    .dataframe thead th {\n",
       "        text-align: right;\n",
       "    }\n",
       "</style>\n",
       "<table border=\"1\" class=\"dataframe\">\n",
       "  <thead>\n",
       "    <tr style=\"text-align: right;\">\n",
       "      <th></th>\n",
       "      <th>x1</th>\n",
       "      <th>x2</th>\n",
       "    </tr>\n",
       "  </thead>\n",
       "  <tbody>\n",
       "    <tr>\n",
       "      <th>0</th>\n",
       "      <td>-0.857157</td>\n",
       "      <td>-0.137160</td>\n",
       "    </tr>\n",
       "    <tr>\n",
       "      <th>1</th>\n",
       "      <td>0.174246</td>\n",
       "      <td>-0.020067</td>\n",
       "    </tr>\n",
       "    <tr>\n",
       "      <th>2</th>\n",
       "      <td>0.420092</td>\n",
       "      <td>-0.476284</td>\n",
       "    </tr>\n",
       "    <tr>\n",
       "      <th>3</th>\n",
       "      <td>-0.020397</td>\n",
       "      <td>-0.144996</td>\n",
       "    </tr>\n",
       "    <tr>\n",
       "      <th>4</th>\n",
       "      <td>0.052975</td>\n",
       "      <td>-0.961998</td>\n",
       "    </tr>\n",
       "    <tr>\n",
       "      <th>...</th>\n",
       "      <td>...</td>\n",
       "      <td>...</td>\n",
       "    </tr>\n",
       "    <tr>\n",
       "      <th>1020</th>\n",
       "      <td>-4.963434</td>\n",
       "      <td>5.125858</td>\n",
       "    </tr>\n",
       "    <tr>\n",
       "      <th>1021</th>\n",
       "      <td>-5.155216</td>\n",
       "      <td>5.276645</td>\n",
       "    </tr>\n",
       "    <tr>\n",
       "      <th>1022</th>\n",
       "      <td>-4.927977</td>\n",
       "      <td>5.538636</td>\n",
       "    </tr>\n",
       "    <tr>\n",
       "      <th>1023</th>\n",
       "      <td>-4.491250</td>\n",
       "      <td>5.276352</td>\n",
       "    </tr>\n",
       "    <tr>\n",
       "      <th>1024</th>\n",
       "      <td>-4.706730</td>\n",
       "      <td>5.488984</td>\n",
       "    </tr>\n",
       "  </tbody>\n",
       "</table>\n",
       "<p>1025 rows × 2 columns</p>\n",
       "</div>"
      ],
      "text/plain": [
       "            x1        x2\n",
       "0    -0.857157 -0.137160\n",
       "1     0.174246 -0.020067\n",
       "2     0.420092 -0.476284\n",
       "3    -0.020397 -0.144996\n",
       "4     0.052975 -0.961998\n",
       "...        ...       ...\n",
       "1020 -4.963434  5.125858\n",
       "1021 -5.155216  5.276645\n",
       "1022 -4.927977  5.538636\n",
       "1023 -4.491250  5.276352\n",
       "1024 -4.706730  5.488984\n",
       "\n",
       "[1025 rows x 2 columns]"
      ]
     },
     "execution_count": 32,
     "metadata": {},
     "output_type": "execute_result"
    }
   ],
   "source": [
    "scaler = StandardScaler()\n",
    "standard_df = scaler.fit_transform(x)\n",
    "standard_df = pd.DataFrame(standard_df, columns=['x1', 'x2'])\n",
    "standard_df"
   ]
  },
  {
   "cell_type": "code",
   "execution_count": 62,
   "id": "f90bfee1",
   "metadata": {
    "ExecuteTime": {
     "end_time": "2022-07-01T07:38:54.041741Z",
     "start_time": "2022-07-01T07:38:53.960788Z"
    }
   },
   "outputs": [
    {
     "data": {
      "text/html": [
       "<div>\n",
       "<style scoped>\n",
       "    .dataframe tbody tr th:only-of-type {\n",
       "        vertical-align: middle;\n",
       "    }\n",
       "\n",
       "    .dataframe tbody tr th {\n",
       "        vertical-align: top;\n",
       "    }\n",
       "\n",
       "    .dataframe thead th {\n",
       "        text-align: right;\n",
       "    }\n",
       "</style>\n",
       "<table border=\"1\" class=\"dataframe\">\n",
       "  <thead>\n",
       "    <tr style=\"text-align: right;\">\n",
       "      <th></th>\n",
       "      <th>x1</th>\n",
       "      <th>x2</th>\n",
       "    </tr>\n",
       "  </thead>\n",
       "  <tbody>\n",
       "    <tr>\n",
       "      <th>0</th>\n",
       "      <td>0.652885</td>\n",
       "      <td>0.209980</td>\n",
       "    </tr>\n",
       "    <tr>\n",
       "      <th>1</th>\n",
       "      <td>0.779271</td>\n",
       "      <td>0.224761</td>\n",
       "    </tr>\n",
       "    <tr>\n",
       "      <th>2</th>\n",
       "      <td>0.809397</td>\n",
       "      <td>0.167172</td>\n",
       "    </tr>\n",
       "    <tr>\n",
       "      <th>3</th>\n",
       "      <td>0.755420</td>\n",
       "      <td>0.208991</td>\n",
       "    </tr>\n",
       "    <tr>\n",
       "      <th>4</th>\n",
       "      <td>0.764411</td>\n",
       "      <td>0.105860</td>\n",
       "    </tr>\n",
       "    <tr>\n",
       "      <th>...</th>\n",
       "      <td>...</td>\n",
       "      <td>...</td>\n",
       "    </tr>\n",
       "    <tr>\n",
       "      <th>1020</th>\n",
       "      <td>0.149708</td>\n",
       "      <td>0.874338</td>\n",
       "    </tr>\n",
       "    <tr>\n",
       "      <th>1021</th>\n",
       "      <td>0.126208</td>\n",
       "      <td>0.893372</td>\n",
       "    </tr>\n",
       "    <tr>\n",
       "      <th>1022</th>\n",
       "      <td>0.154053</td>\n",
       "      <td>0.926444</td>\n",
       "    </tr>\n",
       "    <tr>\n",
       "      <th>1023</th>\n",
       "      <td>0.207569</td>\n",
       "      <td>0.893335</td>\n",
       "    </tr>\n",
       "    <tr>\n",
       "      <th>1024</th>\n",
       "      <td>0.181164</td>\n",
       "      <td>0.920176</td>\n",
       "    </tr>\n",
       "  </tbody>\n",
       "</table>\n",
       "<p>1025 rows × 2 columns</p>\n",
       "</div>"
      ],
      "text/plain": [
       "            x1        x2\n",
       "0     0.652885  0.209980\n",
       "1     0.779271  0.224761\n",
       "2     0.809397  0.167172\n",
       "3     0.755420  0.208991\n",
       "4     0.764411  0.105860\n",
       "...        ...       ...\n",
       "1020  0.149708  0.874338\n",
       "1021  0.126208  0.893372\n",
       "1022  0.154053  0.926444\n",
       "1023  0.207569  0.893335\n",
       "1024  0.181164  0.920176\n",
       "\n",
       "[1025 rows x 2 columns]"
      ]
     },
     "execution_count": 62,
     "metadata": {},
     "output_type": "execute_result"
    }
   ],
   "source": [
    "scaler = MinMaxScaler()\n",
    "minmax_df = scaler.fit_transform(x)\n",
    "minmax_df = pd.DataFrame(minmax_df, columns=['x1', 'x2'])\n",
    "minmax_df"
   ]
  },
  {
   "cell_type": "code",
   "execution_count": 34,
   "id": "e41c6738",
   "metadata": {
    "ExecuteTime": {
     "end_time": "2022-07-01T06:14:46.382157Z",
     "start_time": "2022-07-01T06:14:46.344181Z"
    }
   },
   "outputs": [
    {
     "data": {
      "text/html": [
       "<div>\n",
       "<style scoped>\n",
       "    .dataframe tbody tr th:only-of-type {\n",
       "        vertical-align: middle;\n",
       "    }\n",
       "\n",
       "    .dataframe tbody tr th {\n",
       "        vertical-align: top;\n",
       "    }\n",
       "\n",
       "    .dataframe thead th {\n",
       "        text-align: right;\n",
       "    }\n",
       "</style>\n",
       "<table border=\"1\" class=\"dataframe\">\n",
       "  <thead>\n",
       "    <tr style=\"text-align: right;\">\n",
       "      <th></th>\n",
       "      <th>x1</th>\n",
       "      <th>x2</th>\n",
       "    </tr>\n",
       "  </thead>\n",
       "  <tbody>\n",
       "    <tr>\n",
       "      <th>0</th>\n",
       "      <td>-1.260741</td>\n",
       "      <td>-0.026752</td>\n",
       "    </tr>\n",
       "    <tr>\n",
       "      <th>1</th>\n",
       "      <td>0.086186</td>\n",
       "      <td>0.118779</td>\n",
       "    </tr>\n",
       "    <tr>\n",
       "      <th>2</th>\n",
       "      <td>0.407240</td>\n",
       "      <td>-0.448236</td>\n",
       "    </tr>\n",
       "    <tr>\n",
       "      <th>3</th>\n",
       "      <td>-0.168002</td>\n",
       "      <td>-0.036491</td>\n",
       "    </tr>\n",
       "    <tr>\n",
       "      <th>4</th>\n",
       "      <td>-0.072184</td>\n",
       "      <td>-1.051912</td>\n",
       "    </tr>\n",
       "    <tr>\n",
       "      <th>...</th>\n",
       "      <td>...</td>\n",
       "      <td>...</td>\n",
       "    </tr>\n",
       "    <tr>\n",
       "      <th>1020</th>\n",
       "      <td>-6.623195</td>\n",
       "      <td>6.514456</td>\n",
       "    </tr>\n",
       "    <tr>\n",
       "      <th>1021</th>\n",
       "      <td>-6.873647</td>\n",
       "      <td>6.701862</td>\n",
       "    </tr>\n",
       "    <tr>\n",
       "      <th>1022</th>\n",
       "      <td>-6.576892</td>\n",
       "      <td>7.027482</td>\n",
       "    </tr>\n",
       "    <tr>\n",
       "      <th>1023</th>\n",
       "      <td>-6.006562</td>\n",
       "      <td>6.701499</td>\n",
       "    </tr>\n",
       "    <tr>\n",
       "      <th>1024</th>\n",
       "      <td>-6.287962</td>\n",
       "      <td>6.965771</td>\n",
       "    </tr>\n",
       "  </tbody>\n",
       "</table>\n",
       "<p>1025 rows × 2 columns</p>\n",
       "</div>"
      ],
      "text/plain": [
       "            x1        x2\n",
       "0    -1.260741 -0.026752\n",
       "1     0.086186  0.118779\n",
       "2     0.407240 -0.448236\n",
       "3    -0.168002 -0.036491\n",
       "4    -0.072184 -1.051912\n",
       "...        ...       ...\n",
       "1020 -6.623195  6.514456\n",
       "1021 -6.873647  6.701862\n",
       "1022 -6.576892  7.027482\n",
       "1023 -6.006562  6.701499\n",
       "1024 -6.287962  6.965771\n",
       "\n",
       "[1025 rows x 2 columns]"
      ]
     },
     "execution_count": 34,
     "metadata": {},
     "output_type": "execute_result"
    }
   ],
   "source": [
    "scaler = RobustScaler()\n",
    "robust_df = scaler.fit_transform(x)\n",
    "robust_df = pd.DataFrame(robust_df, columns=['x1', 'x2'])\n",
    "robust_df"
   ]
  },
  {
   "cell_type": "code",
   "execution_count": 35,
   "id": "eb46eccb",
   "metadata": {
    "ExecuteTime": {
     "end_time": "2022-07-01T06:14:47.818937Z",
     "start_time": "2022-07-01T06:14:46.989397Z"
    }
   },
   "outputs": [
    {
     "data": {
      "image/png": "[encoded data removed]",
      "text/plain": [
       "<Figure size 1440x360 with 4 Axes>"
      ]
     },
     "metadata": {
      "needs_background": "light"
     },
     "output_type": "display_data"
    }
   ],
   "source": [
    "fig, (ax1, ax2, ax3, ax4) = plt.subplots(ncols=4, figsize=(20,5))\n",
    "ax1.set_title(\"Befor Scaling\")\n",
    "sns.kdeplot(x[\"x1\"], ax=ax1, color = 'red')\n",
    "sns.kdeplot(x[\"x2\"], ax=ax1, color = 'blue')\n",
    "\n",
    "ax2.set_title(\"Standard Scaling\")\n",
    "sns.kdeplot(standard_df[\"x1\"], ax=ax2, color = 'red')\n",
    "sns.kdeplot(standard_df[\"x2\"], ax=ax2, color = 'blue')\n",
    "\n",
    "ax3.set_title(\"minmax Scaling\")\n",
    "sns.kdeplot(minmax_df[\"x1\"], ax=ax3, color = 'red')\n",
    "sns.kdeplot(minmax_df[\"x2\"], ax=ax3, color = 'blue')\n",
    "\n",
    "ax4.set_title(\"robust Scaling\")\n",
    "sns.kdeplot(robust_df[\"x1\"], ax=ax4, color = 'red')\n",
    "sns.kdeplot(robust_df[\"x2\"], ax=ax4, color = 'blue')\n",
    "\n",
    "\n",
    "plt.show()"
   ]
  },
  {
   "cell_type": "markdown",
   "id": "68e79a6b",
   "metadata": {},
   "source": [
    "### StandardScaler(*, copy=True, with_mean=True, with_std=True)"
   ]
  },
  {
   "cell_type": "code",
   "execution_count": 37,
   "id": "afdfc4a8",
   "metadata": {
    "ExecuteTime": {
     "end_time": "2022-07-01T06:29:46.681597Z",
     "start_time": "2022-07-01T06:29:46.660588Z"
    }
   },
   "outputs": [
    {
     "name": "stdout",
     "output_type": "stream",
     "text": [
      "feature 들의 평균 값\n",
      "sepal length (cm)    5.843333\n",
      "sepal width (cm)     3.057333\n",
      "petal length (cm)    3.758000\n",
      "petal width (cm)     1.199333\n",
      "dtype: float64\n",
      "\n",
      "feature 들의 분산 값\n",
      "sepal length (cm)    0.685694\n",
      "sepal width (cm)     0.189979\n",
      "petal length (cm)    3.116278\n",
      "petal width (cm)     0.581006\n",
      "dtype: float64\n"
     ]
    }
   ],
   "source": [
    "from sklearn.datasets import load_iris\n",
    "import pandas as pd\n",
    "# 붓꽃 데이터 셋을 로딩하고 DataFrame으로 변환합니다.\n",
    "iris = load_iris()\n",
    "iris_data = iris.data\n",
    "iris_df = pd.DataFrame(data=iris_data, columns=iris.feature_names)\n",
    "\n",
    "print('feature 들의 평균 값')\n",
    "print(iris_df.mean())\n",
    "print('\\nfeature 들의 분산 값')\n",
    "print(iris_df.var())"
   ]
  },
  {
   "cell_type": "code",
   "execution_count": 39,
   "id": "c74048c0",
   "metadata": {
    "ExecuteTime": {
     "end_time": "2022-07-01T06:33:38.587671Z",
     "start_time": "2022-07-01T06:33:38.566683Z"
    }
   },
   "outputs": [
    {
     "name": "stdout",
     "output_type": "stream",
     "text": [
      "feature들의 평균 값\n",
      "sepal length (cm)   -1.690315e-15\n",
      "sepal width (cm)    -1.842970e-15\n",
      "petal length (cm)   -1.698641e-15\n",
      "petal width (cm)    -1.409243e-15\n",
      "dtype: float64\n",
      "\n",
      "feature 들의 분산 값\n",
      "sepal length (cm)    1.006711\n",
      "sepal width (cm)     1.006711\n",
      "petal length (cm)    1.006711\n",
      "petal width (cm)     1.006711\n",
      "dtype: float64\n"
     ]
    }
   ],
   "source": [
    "from sklearn.preprocessing import StandardScaler\n",
    "\n",
    "# StandardScaler 객체 생성\n",
    "scaler = StandardScaler()\n",
    "# Standard Scaler 로 데이터 셋 변환. fit() 과 transform() 호출.\n",
    "scaler.fit(iris_df)\n",
    "iris_scaled = scaler.transform(iris_df)\n",
    "\n",
    "#transform()시 scale 변환된 데이터 셋이 numpy ndarry로 변환되어 이를 DataFrame으로 변환\n",
    "iris_df_scaled = pd.DataFrame(data=iris_scaled, columns=iris.feature_names)\n",
    "print('feature들의 평균 값')\n",
    "print(iris_df_scaled.mean())\n",
    "print('\\nfeature 들의 분산 값')\n",
    "print(iris_df_scaled.var())"
   ]
  },
  {
   "cell_type": "markdown",
   "id": "5a53be59",
   "metadata": {},
   "source": [
    "### MinMaxScaler\n",
    "MinMaxScaler(feature_range=(0, 1), *, copy=True, clip=False)\n",
    "\n",
    "example :\n",
    "from sklearn.preprocessing import MinMaxScaler\n",
    "data = [[-1, 2], [-0.5, 6], [0, 10], [1, 18]]\n",
    "scaler = MinMaxScaler()\n",
    "print(scaler.fit(data))\n",
    "MinMaxScaler()\n",
    "print(scaler.data_max_)\n",
    "[ 1. 18.]\n",
    "print(scaler.transform(data))\n",
    "[[0.   0.  ]\n",
    " [0.25 0.25]\n",
    " [0.5  0.5 ]\n",
    " [1.   1.  ]]\n",
    "print(scaler.transform([[2, 2]]))\n",
    "[[1.5 0. ]]"
   ]
  },
  {
   "cell_type": "code",
   "execution_count": 40,
   "id": "e425414c",
   "metadata": {
    "ExecuteTime": {
     "end_time": "2022-07-01T06:36:42.664588Z",
     "start_time": "2022-07-01T06:36:42.637599Z"
    }
   },
   "outputs": [
    {
     "name": "stdout",
     "output_type": "stream",
     "text": [
      "feature들의 최소 값\n",
      "sepal length (cm)    0.0\n",
      "sepal width (cm)     0.0\n",
      "petal length (cm)    0.0\n",
      "petal width (cm)     0.0\n",
      "dtype: float64\n",
      "\n",
      "feature들의 최대 값\n",
      "sepal length (cm)    1.0\n",
      "sepal width (cm)     1.0\n",
      "petal length (cm)    1.0\n",
      "petal width (cm)     1.0\n",
      "dtype: float64\n"
     ]
    }
   ],
   "source": [
    "from sklearn.preprocessing import MinMaxScaler\n",
    "\n",
    "# MinMaxScaler 객체 생성\n",
    "scaler = MinMaxScaler()\n",
    "# MinMaxScaler 로 데이터 셋 변환, fit() 과 transform() 호출.\n",
    "scaler.fit(iris_df)\n",
    "iris_scaled = scaler.transform(iris_df)\n",
    "\n",
    "# transform()시 scale 변환된 데이터 셋이 numpy ndarry로 변환되어 이를 DataFrame으로 변환\n",
    "iris_df_scaled = pd.DataFrame(data=iris_scaled, columns=iris.feature_names)\n",
    "print('feature들의 최소 값')\n",
    "print(iris_df_scaled.min())\n",
    "print('\\nfeature들의 최대 값')\n",
    "print(iris_df_scaled.max())"
   ]
  },
  {
   "cell_type": "markdown",
   "id": "5d6af9a0",
   "metadata": {},
   "source": [
    "### RobustScaler\n",
    "평균과 분산 대신에 중간값과 사분위값 사용\n",
    "중앙값(median)과 IQR(interquartile range) 사용. 아웃라이어의 영향을 최소화 \n",
    "\n",
    "특이 치에 강력한 통계를 사용하여 기능을 확장합니다.\n",
    "\n",
    "이 스케일러는 중앙값을 제거하고 Quantile 범위 (기본값은 IQR : Interquartile Range)에 따라 데이터를 스케일링합니다. IQR은 1 분위 (25 분위)와 3 분위 (75 분위) 사이의 범위입니다.\n",
    "\n",
    "센터링 및 스케일링은 학습 세트의 샘플에 대한 관련 통계를 계산하여 각 기능에서 독립적으로 발생합니다. 그런 다음 중앙값과 사 분위수 범위를 저장하여 transform방법을 사용하여 나중에 데이터에 사용합니다 .\n",
    "\n",
    "(X, *, axis=0, with_centering=True, with_scaling=True, quantile_range=(25.0, 75.0), copy=True, unit_variance=False)"
   ]
  },
  {
   "cell_type": "code",
   "execution_count": 42,
   "id": "d1989fc2",
   "metadata": {
    "ExecuteTime": {
     "end_time": "2022-07-01T07:16:22.615085Z",
     "start_time": "2022-07-01T07:16:22.261622Z"
    }
   },
   "outputs": [
    {
     "name": "stdout",
     "output_type": "stream",
     "text": [
      "[[-0.77777778 -0.69565217]\n",
      " [-0.55555556 -0.52173913]\n",
      " [-0.55555556 -0.17391304]\n",
      " [-0.11111111  0.        ]\n",
      " [ 0.33333333  0.        ]\n",
      " [-0.77777778  0.        ]\n",
      " [ 0.55555556  0.69565217]\n",
      " [ 0.77777778  0.86956522]\n",
      " [ 0.11111111  1.2173913 ]\n",
      " [ 0.77777778 -0.52173913]\n",
      " [ 0.11111111  0.86956522]\n",
      " [-0.77777778 -0.17391304]]\n"
     ]
    },
    {
     "data": {
      "text/plain": [
       "'\\n[[-0.77777778 -0.69565217]\\n [-0.55555556 -0.52173913]\\n [-0.55555556 -0.17391304]\\n [-0.11111111  0.        ]\\n [ 0.33333333  0.        ]\\n [-0.77777778  0.        ]\\n [ 0.55555556  0.69565217]\\n [ 0.77777778  0.86956522]\\n [ 0.11111111  1.2173913 ]\\n [ 0.77777778 -0.52173913]\\n [ 0.11111111  0.86956522]\\n [-0.77777778 -0.17391304]]\\n'"
      ]
     },
     "execution_count": 42,
     "metadata": {},
     "output_type": "execute_result"
    }
   ],
   "source": [
    "import pandas as pd\n",
    "from sklearn.preprocessing import RobustScaler\n",
    "#from sklearn.preprocessing import robust_scale\n",
    "\n",
    "##########데이터 로드\n",
    "\n",
    "#hour, attendance, score\n",
    "df = pd.DataFrame([\n",
    "    [2, 1, 3],\n",
    "    [3, 2, 5],\n",
    "    [3, 4, 7],\n",
    "    [5, 5, 10],\n",
    "    [7, 5, 12],\n",
    "    [2, 5, 7],\n",
    "    [8, 9, 13],\n",
    "    [9, 10, 13],\n",
    "    [6, 12, 12],\n",
    "    [9, 2, 13],\n",
    "    [6, 10, 12],\n",
    "    [2, 4, 6]\n",
    "], columns=['hour', 'attendance', 'score'])\n",
    "\n",
    "##########데이터 분석\n",
    "\n",
    "##########데이터 전처리\n",
    "\n",
    "x_data = df.drop(['score'], axis=1) \n",
    "y_data = df['score']\n",
    "\n",
    "#'''\n",
    "transformer = RobustScaler()\n",
    "transformer.fit(x_data)\n",
    "#print(transformer.center_) #[5.5 5. ]\n",
    "#print(transformer.scale_) #[4.5  5.75]\n",
    "x_data = transformer.transform(x_data) \n",
    "#'''\n",
    "'''\n",
    "transformer = RobustScaler()\n",
    "x_data = transformer.fit_transform(x_data)\n",
    "'''\n",
    "'''\n",
    "x_data = robust_scale(x_data)\n",
    "'''\n",
    "print(x_data)\n",
    "'''\n",
    "[[-0.77777778 -0.69565217]\n",
    " [-0.55555556 -0.52173913]\n",
    " [-0.55555556 -0.17391304]\n",
    " [-0.11111111  0.        ]\n",
    " [ 0.33333333  0.        ]\n",
    " [-0.77777778  0.        ]\n",
    " [ 0.55555556  0.69565217]\n",
    " [ 0.77777778  0.86956522]\n",
    " [ 0.11111111  1.2173913 ]\n",
    " [ 0.77777778 -0.52173913]\n",
    " [ 0.11111111  0.86956522]\n",
    " [-0.77777778 -0.17391304]]\n",
    "'''"
   ]
  },
  {
   "cell_type": "code",
   "execution_count": 53,
   "id": "e2588d10",
   "metadata": {
    "ExecuteTime": {
     "end_time": "2022-07-01T07:27:31.272560Z",
     "start_time": "2022-07-01T07:27:31.229586Z"
    }
   },
   "outputs": [
    {
     "data": {
      "text/html": [
       "<div>\n",
       "<style scoped>\n",
       "    .dataframe tbody tr th:only-of-type {\n",
       "        vertical-align: middle;\n",
       "    }\n",
       "\n",
       "    .dataframe tbody tr th {\n",
       "        vertical-align: top;\n",
       "    }\n",
       "\n",
       "    .dataframe thead th {\n",
       "        text-align: right;\n",
       "    }\n",
       "</style>\n",
       "<table border=\"1\" class=\"dataframe\">\n",
       "  <thead>\n",
       "    <tr style=\"text-align: right;\">\n",
       "      <th></th>\n",
       "      <th>sepal length (cm)</th>\n",
       "      <th>sepal width (cm)</th>\n",
       "      <th>petal length (cm)</th>\n",
       "      <th>petal width (cm)</th>\n",
       "    </tr>\n",
       "  </thead>\n",
       "  <tbody>\n",
       "    <tr>\n",
       "      <th>0</th>\n",
       "      <td>-0.538462</td>\n",
       "      <td>1.0</td>\n",
       "      <td>-0.842857</td>\n",
       "      <td>-0.733333</td>\n",
       "    </tr>\n",
       "    <tr>\n",
       "      <th>1</th>\n",
       "      <td>-0.692308</td>\n",
       "      <td>0.0</td>\n",
       "      <td>-0.842857</td>\n",
       "      <td>-0.733333</td>\n",
       "    </tr>\n",
       "    <tr>\n",
       "      <th>2</th>\n",
       "      <td>-0.846154</td>\n",
       "      <td>0.4</td>\n",
       "      <td>-0.871429</td>\n",
       "      <td>-0.733333</td>\n",
       "    </tr>\n",
       "    <tr>\n",
       "      <th>3</th>\n",
       "      <td>-0.923077</td>\n",
       "      <td>0.2</td>\n",
       "      <td>-0.814286</td>\n",
       "      <td>-0.733333</td>\n",
       "    </tr>\n",
       "    <tr>\n",
       "      <th>4</th>\n",
       "      <td>-0.615385</td>\n",
       "      <td>1.2</td>\n",
       "      <td>-0.842857</td>\n",
       "      <td>-0.733333</td>\n",
       "    </tr>\n",
       "    <tr>\n",
       "      <th>...</th>\n",
       "      <td>...</td>\n",
       "      <td>...</td>\n",
       "      <td>...</td>\n",
       "      <td>...</td>\n",
       "    </tr>\n",
       "    <tr>\n",
       "      <th>145</th>\n",
       "      <td>0.692308</td>\n",
       "      <td>0.0</td>\n",
       "      <td>0.242857</td>\n",
       "      <td>0.666667</td>\n",
       "    </tr>\n",
       "    <tr>\n",
       "      <th>146</th>\n",
       "      <td>0.384615</td>\n",
       "      <td>-1.0</td>\n",
       "      <td>0.185714</td>\n",
       "      <td>0.400000</td>\n",
       "    </tr>\n",
       "    <tr>\n",
       "      <th>147</th>\n",
       "      <td>0.538462</td>\n",
       "      <td>0.0</td>\n",
       "      <td>0.242857</td>\n",
       "      <td>0.466667</td>\n",
       "    </tr>\n",
       "    <tr>\n",
       "      <th>148</th>\n",
       "      <td>0.307692</td>\n",
       "      <td>0.8</td>\n",
       "      <td>0.300000</td>\n",
       "      <td>0.666667</td>\n",
       "    </tr>\n",
       "    <tr>\n",
       "      <th>149</th>\n",
       "      <td>0.076923</td>\n",
       "      <td>0.0</td>\n",
       "      <td>0.214286</td>\n",
       "      <td>0.333333</td>\n",
       "    </tr>\n",
       "  </tbody>\n",
       "</table>\n",
       "<p>150 rows × 4 columns</p>\n",
       "</div>"
      ],
      "text/plain": [
       "     sepal length (cm)  sepal width (cm)  petal length (cm)  petal width (cm)\n",
       "0            -0.538462               1.0          -0.842857         -0.733333\n",
       "1            -0.692308               0.0          -0.842857         -0.733333\n",
       "2            -0.846154               0.4          -0.871429         -0.733333\n",
       "3            -0.923077               0.2          -0.814286         -0.733333\n",
       "4            -0.615385               1.2          -0.842857         -0.733333\n",
       "..                 ...               ...                ...               ...\n",
       "145           0.692308               0.0           0.242857          0.666667\n",
       "146           0.384615              -1.0           0.185714          0.400000\n",
       "147           0.538462               0.0           0.242857          0.466667\n",
       "148           0.307692               0.8           0.300000          0.666667\n",
       "149           0.076923               0.0           0.214286          0.333333\n",
       "\n",
       "[150 rows x 4 columns]"
      ]
     },
     "execution_count": 53,
     "metadata": {},
     "output_type": "execute_result"
    }
   ],
   "source": [
    "from sklearn.preprocessing import RobustScaler\n",
    "rbscaler = RobustScaler()\n",
    "rbscaler.fit(iris_df)\n",
    "iris_rbscaled = rbscaler.transform(iris_df)\n",
    "iris_df_rbscaled = pd.DataFrame(data=iris_rbscaled, columns=iris.feature_names)\n",
    "iris_df_rbscaled"
   ]
  },
  {
   "cell_type": "code",
   "execution_count": 54,
   "id": "a5e24165",
   "metadata": {
    "ExecuteTime": {
     "end_time": "2022-07-01T07:27:33.969709Z",
     "start_time": "2022-07-01T07:27:33.402745Z"
    }
   },
   "outputs": [
    {
     "ename": "NameError",
     "evalue": "name 'iris_df_scales' is not defined",
     "output_type": "error",
     "traceback": [
      "\u001b[1;31m---------------------------------------------------------------------------\u001b[0m",
      "\u001b[1;31mNameError\u001b[0m                                 Traceback (most recent call last)",
      "Input \u001b[1;32mIn [54]\u001b[0m, in \u001b[0;36m<cell line: 5>\u001b[1;34m()\u001b[0m\n\u001b[0;32m      3\u001b[0m fig, (ax1, ax2, ax3, ax4) \u001b[38;5;241m=\u001b[39m plt\u001b[38;5;241m.\u001b[39msubplots(ncols\u001b[38;5;241m=\u001b[39m\u001b[38;5;241m4\u001b[39m, figsize\u001b[38;5;241m=\u001b[39m(\u001b[38;5;241m20\u001b[39m,\u001b[38;5;241m5\u001b[39m))\n\u001b[0;32m      4\u001b[0m ax1\u001b[38;5;241m.\u001b[39mset_title(\u001b[38;5;124m'\u001b[39m\u001b[38;5;124mBefore Scaling\u001b[39m\u001b[38;5;124m'\u001b[39m)\n\u001b[1;32m----> 5\u001b[0m sns\u001b[38;5;241m.\u001b[39mkdeplot(\u001b[43miris_df_scales\u001b[49m[\u001b[38;5;124m'\u001b[39m\u001b[38;5;124msepal length (cm)\u001b[39m\u001b[38;5;124m'\u001b[39m], ax \u001b[38;5;241m=\u001b[39m ax1, color \u001b[38;5;241m=\u001b[39m \u001b[38;5;124m'\u001b[39m\u001b[38;5;124mr\u001b[39m\u001b[38;5;124m'\u001b[39m)\n\u001b[0;32m      6\u001b[0m sns\u001b[38;5;241m.\u001b[39mkdeplot(iris_df_scales[\u001b[38;5;124m'\u001b[39m\u001b[38;5;124msepal width (cm)\u001b[39m\u001b[38;5;124m'\u001b[39m], ax \u001b[38;5;241m=\u001b[39m ax1, color \u001b[38;5;241m=\u001b[39m \u001b[38;5;124m'\u001b[39m\u001b[38;5;124my\u001b[39m\u001b[38;5;124m'\u001b[39m)\n\u001b[0;32m      7\u001b[0m sns\u001b[38;5;241m.\u001b[39mkdeplot(iris_df_scales[\u001b[38;5;124m'\u001b[39m\u001b[38;5;124mpetal length (cm)\u001b[39m\u001b[38;5;124m'\u001b[39m], ax \u001b[38;5;241m=\u001b[39m ax1, color \u001b[38;5;241m=\u001b[39m \u001b[38;5;124m'\u001b[39m\u001b[38;5;124mg\u001b[39m\u001b[38;5;124m'\u001b[39m)\n",
      "\u001b[1;31mNameError\u001b[0m: name 'iris_df_scales' is not defined"
     ]
    },
    {
     "data": {
      "image/png": "[encoded data removed]",
      "text/plain": [
       "<Figure size 1440x360 with 4 Axes>"
      ]
     },
     "metadata": {
      "needs_background": "light"
     },
     "output_type": "display_data"
    }
   ],
   "source": [
    "import matplotlib.pyplot as plt\n",
    "import seaborn as sns\n",
    "fig, (ax1, ax2, ax3, ax4) = plt.subplots(ncols=4, figsize=(20,5))\n",
    "ax1.set_title('Before Scaling')\n",
    "sns.kdeplot(iris_df_scales['sepal length (cm)'], ax = ax1, color = 'r')\n",
    "sns.kdeplot(iris_df_scales['sepal width (cm)'], ax = ax1, color = 'y')\n",
    "sns.kdeplot(iris_df_scales['petal length (cm)'], ax = ax1, color = 'g')\n",
    "sns.kdeplot(iris_df_scales['petal width (cm)'], ax = ax1, color = 'b')\n",
    "ax2.set_title('Standard Scaling')\n",
    "sns.kdeplot(iris_scaled_df1['sepal length (cm)'], ax = ax2, color = 'r')\n",
    "sns.kdeplot(iris_scaled_df1['sepal width (cm)'], ax = ax2, color = 'y')\n",
    "sns.kdeplot(iris_scaled_df1['petal length (cm)'], ax = ax2, color = 'g')\n",
    "sns.kdeplot(iris_scaled_df1['petal width (cm)'], ax = ax2, color = 'b')\n",
    "ax3.set_title('MinMax Scaling')\n",
    "sns.kdeplot(iris_df_scales['sepal length (cm)'], ax = ax3, color = 'r')\n",
    "sns.kdeplot(iris_df_scales['sepal width (cm)'], ax = ax3, color = 'y')\n",
    "sns.kdeplot(iris_df_scales['petal length (cm)'], ax = ax3, color = 'g')\n",
    "sns.kdeplot(iris_df_scales['petal width (cm)'], ax = ax3, color = 'b')\n",
    "ax4.set_title('Robust Scaling')\n",
    "sns.kdeplot(iris_df_rbscaled['sepal length (cm)'], ax = ax4, color = 'r')\n",
    "sns.kdeplot(iris_df_rbscaled['sepal width (cm)'], ax = ax4, color = 'y')\n",
    "sns.kdeplot(iris_df_rbscaled['petal length (cm)'], ax = ax4, color = 'g')\n",
    "sns.kdeplot(iris_df_rbscaled['petal width (cm)'], ax = ax4, color = 'b')\n",
    "plt.show()"
   ]
  },
  {
   "cell_type": "code",
   "execution_count": 3,
   "id": "08f13446",
   "metadata": {
    "ExecuteTime": {
     "end_time": "2022-07-01T07:58:29.940472Z",
     "start_time": "2022-07-01T07:58:29.883505Z"
    }
   },
   "outputs": [
    {
     "data": {
      "text/html": [
       "<div>\n",
       "<style scoped>\n",
       "    .dataframe tbody tr th:only-of-type {\n",
       "        vertical-align: middle;\n",
       "    }\n",
       "\n",
       "    .dataframe tbody tr th {\n",
       "        vertical-align: top;\n",
       "    }\n",
       "\n",
       "    .dataframe thead th {\n",
       "        text-align: right;\n",
       "    }\n",
       "</style>\n",
       "<table border=\"1\" class=\"dataframe\">\n",
       "  <thead>\n",
       "    <tr style=\"text-align: right;\">\n",
       "      <th></th>\n",
       "      <th>PassengerId</th>\n",
       "      <th>Survived</th>\n",
       "      <th>Pclass</th>\n",
       "      <th>Name</th>\n",
       "      <th>Sex</th>\n",
       "      <th>Age</th>\n",
       "      <th>SibSp</th>\n",
       "      <th>Parch</th>\n",
       "      <th>Ticket</th>\n",
       "      <th>Fare</th>\n",
       "      <th>Cabin</th>\n",
       "      <th>Embarked</th>\n",
       "    </tr>\n",
       "  </thead>\n",
       "  <tbody>\n",
       "    <tr>\n",
       "      <th>0</th>\n",
       "      <td>1</td>\n",
       "      <td>0</td>\n",
       "      <td>3</td>\n",
       "      <td>Braund, Mr. Owen Harris</td>\n",
       "      <td>male</td>\n",
       "      <td>22.0</td>\n",
       "      <td>1</td>\n",
       "      <td>0</td>\n",
       "      <td>A/5 21171</td>\n",
       "      <td>7.2500</td>\n",
       "      <td>NaN</td>\n",
       "      <td>S</td>\n",
       "    </tr>\n",
       "    <tr>\n",
       "      <th>1</th>\n",
       "      <td>2</td>\n",
       "      <td>1</td>\n",
       "      <td>1</td>\n",
       "      <td>Cumings, Mrs. John Bradley (Florence Briggs Th...</td>\n",
       "      <td>female</td>\n",
       "      <td>38.0</td>\n",
       "      <td>1</td>\n",
       "      <td>0</td>\n",
       "      <td>PC 17599</td>\n",
       "      <td>71.2833</td>\n",
       "      <td>C85</td>\n",
       "      <td>C</td>\n",
       "    </tr>\n",
       "    <tr>\n",
       "      <th>2</th>\n",
       "      <td>3</td>\n",
       "      <td>1</td>\n",
       "      <td>3</td>\n",
       "      <td>Heikkinen, Miss. Laina</td>\n",
       "      <td>female</td>\n",
       "      <td>26.0</td>\n",
       "      <td>0</td>\n",
       "      <td>0</td>\n",
       "      <td>STON/O2. 3101282</td>\n",
       "      <td>7.9250</td>\n",
       "      <td>NaN</td>\n",
       "      <td>S</td>\n",
       "    </tr>\n",
       "  </tbody>\n",
       "</table>\n",
       "</div>"
      ],
      "text/plain": [
       "   PassengerId  Survived  Pclass  \\\n",
       "0            1         0       3   \n",
       "1            2         1       1   \n",
       "2            3         1       3   \n",
       "\n",
       "                                                Name     Sex   Age  SibSp  \\\n",
       "0                            Braund, Mr. Owen Harris    male  22.0      1   \n",
       "1  Cumings, Mrs. John Bradley (Florence Briggs Th...  female  38.0      1   \n",
       "2                             Heikkinen, Miss. Laina  female  26.0      0   \n",
       "\n",
       "   Parch            Ticket     Fare Cabin Embarked  \n",
       "0      0         A/5 21171   7.2500   NaN        S  \n",
       "1      0          PC 17599  71.2833   C85        C  \n",
       "2      0  STON/O2. 3101282   7.9250   NaN        S  "
      ]
     },
     "execution_count": 3,
     "metadata": {},
     "output_type": "execute_result"
    }
   ],
   "source": [
    "import numpy as np\n",
    "import pandas as pd\n",
    "import matplotlib.pyplot as plt\n",
    "import seaborn as sns\n",
    "%matplotlib inline \n",
    "\n",
    "titanic_df = pd.read_csv('C:/apps/ml/datasets/titanic.csv')\n",
    "titanic_df.head(3)"
   ]
  },
  {
   "cell_type": "code",
   "execution_count": 4,
   "id": "043c25ca",
   "metadata": {
    "ExecuteTime": {
     "end_time": "2022-07-01T07:58:53.984504Z",
     "start_time": "2022-07-01T07:58:53.961519Z"
    }
   },
   "outputs": [],
   "source": [
    "titanic_df.drop(columns = ['PassengerId', 'Survived', 'Name', 'SibSp', 'Parch','Ticket', 'Fare', 'Cabin'], inplace=True)"
   ]
  },
  {
   "cell_type": "code",
   "execution_count": 5,
   "id": "a5f5a86f",
   "metadata": {
    "ExecuteTime": {
     "end_time": "2022-07-01T07:59:04.048046Z",
     "start_time": "2022-07-01T07:59:03.992080Z"
    }
   },
   "outputs": [
    {
     "name": "stdout",
     "output_type": "stream",
     "text": [
      "<class 'pandas.core.frame.DataFrame'>\n",
      "RangeIndex: 891 entries, 0 to 890\n",
      "Data columns (total 4 columns):\n",
      " #   Column    Non-Null Count  Dtype  \n",
      "---  ------    --------------  -----  \n",
      " 0   Pclass    891 non-null    int64  \n",
      " 1   Sex       891 non-null    object \n",
      " 2   Age       714 non-null    float64\n",
      " 3   Embarked  889 non-null    object \n",
      "dtypes: float64(1), int64(1), object(2)\n",
      "memory usage: 28.0+ KB\n"
     ]
    }
   ],
   "source": [
    "titanic_df.info()"
   ]
  },
  {
   "cell_type": "code",
   "execution_count": 17,
   "id": "b2626d68",
   "metadata": {
    "ExecuteTime": {
     "end_time": "2022-07-01T08:05:11.879235Z",
     "start_time": "2022-07-01T08:05:11.853252Z"
    }
   },
   "outputs": [
    {
     "name": "stdout",
     "output_type": "stream",
     "text": [
      "데이터 세트 Null 값 갯수 0\n"
     ]
    }
   ],
   "source": [
    "titanic_df['Pclass'].fillna(titanic_df['Pclass'].mean(), inplace = True)\n",
    "titanic_df['Age'].fillna('N',inplace=True)\n",
    "titanic_df['Sex'].fillna('N',inplace=True)\n",
    "titanic_df['Embarked'].fillna('N',inplace=True)\n",
    "print('데이터 세트 Null 값 갯수' ,titanic_df.isnull().sum().sum())"
   ]
  },
  {
   "cell_type": "code",
   "execution_count": 18,
   "id": "1bd55cfe",
   "metadata": {
    "ExecuteTime": {
     "end_time": "2022-07-01T08:05:14.514354Z",
     "start_time": "2022-07-01T08:05:14.490347Z"
    }
   },
   "outputs": [
    {
     "name": "stdout",
     "output_type": "stream",
     "text": [
      "데이터 세트 Null 값 갯수 Pclass      0\n",
      "Sex         0\n",
      "Age         0\n",
      "Embarked    0\n",
      "dtype: int64\n"
     ]
    }
   ],
   "source": [
    "print('데이터 세트 Null 값 갯수' , titanic_df.isnull().sum())"
   ]
  },
  {
   "cell_type": "code",
   "execution_count": null,
   "id": "976c722d",
   "metadata": {},
   "outputs": [],
   "source": []
  }
 ],
 "metadata": {
  "kernelspec": {
   "display_name": "Python 3 (ipykernel)",
   "language": "python",
   "name": "python3"
  },
  "language_info": {
   "codemirror_mode": {
    "name": "ipython",
    "version": 3
   },
   "file_extension": ".py",
   "mimetype": "text/x-python",
   "name": "python",
   "nbconvert_exporter": "python",
   "pygments_lexer": "ipython3",
   "version": "3.10.4"
  },
  "toc": {
   "base_numbering": 1,
   "nav_menu": {},
   "number_sections": true,
   "sideBar": true,
   "skip_h1_title": false,
   "title_cell": "Table of Contents",
   "title_sidebar": "Contents",
   "toc_cell": false,
   "toc_position": {},
   "toc_section_display": true,
   "toc_window_display": false
  }
 },
 "nbformat": 4,
 "nbformat_minor": 5
}
